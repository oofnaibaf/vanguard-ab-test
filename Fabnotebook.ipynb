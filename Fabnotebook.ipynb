{
 "cells": [
  {
   "cell_type": "code",
   "execution_count": null,
   "id": "279c294b-f233-44df-92ae-7a984336ce57",
   "metadata": {},
   "outputs": [],
   "source": [
    "import pandas as pd\n",
    "import numpy as np"
   ]
  },
  {
   "cell_type": "code",
   "execution_count": null,
   "id": "76ea6351-3099-465c-bca1-d1940277407b",
   "metadata": {},
   "outputs": [],
   "source": [
    "# Read the files\n",
    "df_final_demo = pd.read_csv('df_final_demo.txt', delimiter=',')\n",
    "df_final_experiment_clients = pd.read_csv('df_final_experiment_clients.txt', delimiter=',')\n",
    "df_final_web_data_pt_1 = pd.read_csv('df_final_web_data_pt_1.txt', delimiter=',')\n",
    "df_final_web_data_pt_2 = pd.read_csv('df_final_web_data_pt_2.txt', delimiter=',')"
   ]
  },
  {
   "cell_type": "code",
   "execution_count": null,
   "id": "ad813dc0-abbd-49d8-9bc5-512235051ba8",
   "metadata": {},
   "outputs": [],
   "source": [
    "# Check for missing values\n",
    "print(df_final_demo.isnull().sum())\n",
    "\n",
    "# Fill missing values or drop rows with significant missing data\n",
    "df_final_demo['clnt_age'] = df_final_demo['clnt_age'].fillna(df_final_demo['clnt_age'].median())\n",
    "df_final_demo['gendr'] = df_final_demo['gendr'].fillna('Unknown')\n",
    "\n",
    "# Replace negative or invalid values with NaN and handle them\n",
    "df_final_demo['bal'] = df_final_demo['bal'].apply(lambda x: np.nan if x < 0 else x)\n",
    "df_final_demo = df_final_demo.dropna()  # Drop rows with invalid values"
   ]
  },
  {
   "cell_type": "code",
   "execution_count": null,
   "id": "0c03f084-a537-46c2-8446-8c90f82aa9c8",
   "metadata": {},
   "outputs": [],
   "source": [
    "#test case\n",
    "print(df_final_experiment_clients.head())"
   ]
  },
  {
   "cell_type": "code",
   "execution_count": null,
   "id": "42facd36-c5cb-4540-bbe6-95b40085c702",
   "metadata": {},
   "outputs": [],
   "source": [
    "#clean df_final_experiment\n",
    "if 'Variation' in df_final_experiment_clients.columns:\n",
    "    print(df_final_experiment_clients['Variation'].unique())\n",
    "else:\n",
    "    print(\"'Variation' column not found. Cannot proceed with analysis.\")\n"
   ]
  },
  {
   "cell_type": "code",
   "execution_count": null,
   "id": "b5d6496c-9420-4675-afcc-e45793831e74",
   "metadata": {},
   "outputs": [],
   "source": [
    "#df_final_experiment_clients = pd.read_csv('df_final_experiment_clients.csv', delimiter=',')\n",
    "\n",
    "# Ensure Variation contains only valid entries\n",
    "print(df_final_experiment_clients['Variation'].unique())\n",
    "\n",
    "# Fix invalid variations (if any)\n",
    "valid_variations = ['Test', 'Control']\n",
    "df_final_experiment_clients = df_final_experiment_clients[\n",
    "    df_final_experiment_clients['Variation'].isin(valid_variations)\n",
    "]"
   ]
  },
  {
   "cell_type": "code",
   "execution_count": null,
   "id": "a545f0f6-03b1-4ff5-96cf-b1a7dd67355c",
   "metadata": {},
   "outputs": [],
   "source": [
    "# Concatenate the two parts\n",
    "df_final_web_data = pd.concat([df_final_web_data_pt_1, df_final_web_data_pt_2], ignore_index=True)\n",
    "\n",
    "# Convert `date_time` to datetime format\n",
    "df_final_web_data['date_time'] = pd.to_datetime(df_final_web_data['date_time'])\n",
    "\n",
    "# Check for duplicates and drop them\n",
    "df_final_web_data = df_final_web_data.drop_duplicates()\n",
    "\n",
    "# Ensure `process_step` is valid (e.g., integers or known steps)\n",
    "print(df_final_web_data['process_step'].unique())\n"
   ]
  },
  {
   "cell_type": "code",
   "execution_count": null,
   "id": "28c1938d-e465-454a-998f-1f617a7e2c14",
   "metadata": {},
   "outputs": [],
   "source": [
    "merged_data = pd.merge(df_final_demo, df_final_experiment_clients, on='client_id', how='inner')\n",
    "\n",
    "# Merge the web data\n",
    "merged_data = pd.merge(merged_data, df_final_web_data, on='client_id', how='inner')"
   ]
  },
  {
   "cell_type": "code",
   "execution_count": null,
   "id": "14928879-1e1b-4975-96e1-48cb7d171d53",
   "metadata": {
    "scrolled": true
   },
   "outputs": [],
   "source": [
    "merged_data.to_csv('cleaned_data.csv', index=False)\n"
   ]
  },
  {
   "cell_type": "code",
   "execution_count": null,
   "id": "e3fd1c46-12f2-4331-beda-15eb6b01844a",
   "metadata": {},
   "outputs": [],
   "source": [
    "#print out csv header \n",
    "df_all_clean = pd.read_csv(\"cleaned_data.csv\", dtype={'Variation': 'str'}, low_memory=False)\n",
    "print(df_all_clean.dtypes)"
   ]
  },
  {
   "cell_type": "code",
   "execution_count": null,
   "id": "ed893709-7310-42dd-b343-321009f26fc4",
   "metadata": {},
   "outputs": [],
   "source": [
    "# Check the structure of the data\n",
    "print(df_all_clean.info())\n",
    "print(df_all_clean.head())"
   ]
  },
  {
   "cell_type": "code",
   "execution_count": null,
   "id": "b6e77c20-f716-42ac-94df-b8c5c096454b",
   "metadata": {},
   "outputs": [],
   "source": [
    "print(df_all_clean.describe())\n",
    "print(df_all_clean['gendr'].value_counts())"
   ]
  },
  {
   "cell_type": "code",
   "execution_count": null,
   "id": "75c68d14-7bf6-4f83-a556-43817567d2a9",
   "metadata": {},
   "outputs": [],
   "source": [
    "#Age distribution visualization\n",
    "\n",
    "import matplotlib.pyplot as plt\n",
    "from matplotlib.colors import ListedColormap\n",
    "\n",
    "# Set pastel color for axis labels\n",
    "pastel_color = '#AEC6CF'  # Example pastel blue from a pastel palette\n",
    "\n",
    "# Plot with pastel style\n",
    "merged_data['clnt_age'].hist(bins=20, color='#5F9EA0', edgecolor='white')  # Add pastel orange for the bars\n",
    "plt.title('Age Distribution', color='#00CED1')  # Pastel green title\n",
    "plt.xlabel('Age', color='#008B8B')  # Use pastel blue for the label\n",
    "plt.ylabel('Frequency', color='#20B2AA')  # Use pastel blue for the label\n",
    "plt.show()"
   ]
  },
  {
   "cell_type": "code",
   "execution_count": null,
   "id": "52fe2a57-a8ef-40c8-a547-1458fbd06415",
   "metadata": {},
   "outputs": [],
   "source": [
    "merged_data.plot.scatter(x='num_accts // Number of Accounts', y='bal // Balance', alpha=0.5)\n",
    "plt.title('Balance vs. Number of Accounts')\n",
    "plt.show()\n"
   ]
  },
  {
   "cell_type": "code",
   "execution_count": null,
   "id": "7c07ab77-b4cc-4ce3-b11e-9a9060eddc31",
   "metadata": {},
   "outputs": [],
   "source": [
    "print(merged_data.groupby('Variation')['clnt_age'].mean())\n",
    "print(merged_data.groupby('Variation')['bal'].mean())\n"
   ]
  },
  {
   "cell_type": "code",
   "execution_count": null,
   "id": "d117273e-b77e-4d9a-8e34-e79c8a6e8257",
   "metadata": {},
   "outputs": [],
   "source": [
    "# Filter for the 'confirm' step\n",
    "completion_data = merged_data[merged_data['process_step'] == 'confirm']\n",
    "\n",
    "# Calculate completion rates\n",
    "total_test = len(merged_data[merged_data['Variation'] == 'Test'])\n",
    "total_control = len(merged_data[merged_data['Variation'] == 'Control'])\n",
    "confirm_test = len(completion_data[completion_data['Variation'] == 'Test'])\n",
    "confirm_control = len(completion_data[completion_data['Variation'] == 'Control'])\n",
    "\n",
    "test_completion_rate = confirm_test / total_test\n",
    "control_completion_rate = confirm_control / total_control\n",
    "\n",
    "print(f\"Test Completion Rate: {test_completion_rate}\")\n",
    "print(f\"Control Completion Rate: {control_completion_rate}\")\n"
   ]
  },
  {
   "cell_type": "code",
   "execution_count": null,
   "id": "08a58796-c4e0-4cea-b45e-2dfab9f477d1",
   "metadata": {},
   "outputs": [],
   "source": [
    "merged_data['date_time'] = pd.to_datetime(merged_data['date_time'])\n",
    "\n",
    "# Sort data by client and timestamp\n",
    "merged_data = merged_data.sort_values(by=['client_id', 'date_time'])\n",
    "\n",
    "# Calculate time differences\n",
    "merged_data['time_diff'] = merged_data.groupby('client_id')['date_time'].diff()\n",
    "\n",
    "# Average time spent per step\n",
    "time_per_step = merged_data.groupby('process_step')['time_diff'].mean()\n",
    "print(time_per_step)\n"
   ]
  },
  {
   "cell_type": "code",
   "execution_count": null,
   "id": "3336eaca-0cd5-44bb-b03b-a3212d95d92c",
   "metadata": {},
   "outputs": [],
   "source": [
    "# Calculate error rates with division by zero handling\n",
    "test_error_rate = error_test / total_steps_test if total_steps_test > 0 else 0\n",
    "control_error_rate = error_control / total_steps_control if total_steps_control > 0 else 0\n",
    "\n",
    "print(f\"Test Error Rate: {test_error_rate}\")\n",
    "print(f\"Control Error Rate: {control_error_rate}\")\n"
   ]
  },
  {
   "cell_type": "code",
   "execution_count": null,
   "id": "7d0ec353-664f-4dcd-aeb5-dd251de1758b",
   "metadata": {},
   "outputs": [],
   "source": [
    "# Ensure process_step is numeric\n",
    "merged_data['process_step'] = pd.to_numeric(merged_data['process_step'], errors='coerce')\n",
    "\n",
    "# Drop rows with NaN in process_step\n",
    "merged_data = merged_data.dropna(subset=['process_step'])\n",
    "\n",
    "# Calculate step differences\n",
    "merged_data['step_diff'] = merged_data.groupby('client_id')['process_step'].diff()\n",
    "\n",
    "# Identify backward steps\n",
    "backward_steps = merged_data[merged_data['step_diff'] < 0]\n",
    "\n",
    "# Calculate error rate\n",
    "total_steps_test = len(merged_data[merged_data['Variation'] == 'Test'])\n",
    "total_steps_control = len(merged_data[merged_data['Variation'] == 'Control'])\n",
    "error_test = len(backward_steps[backward_steps['Variation'] == 'Test'])\n",
    "error_control = len(backward_steps[backward_steps['Variation'] == 'Control'])\n",
    "\n",
    "test_error_rate = error_test / total_steps_test\n",
    "control_error_rate = error_control / total_steps_control\n",
    "\n",
    "print(f\"Test Error Rate: {test_error_rate}\")\n",
    "print(f\"Control Error Rate: {control_error_rate}\")\n"
   ]
  }
 ],
 "metadata": {
  "kernelspec": {
   "display_name": "Python 3 (ipykernel)",
   "language": "python",
   "name": "python3"
  },
  "language_info": {
   "codemirror_mode": {
    "name": "ipython",
    "version": 3
   },
   "file_extension": ".py",
   "mimetype": "text/x-python",
   "name": "python",
   "nbconvert_exporter": "python",
   "pygments_lexer": "ipython3",
   "version": "3.9.20"
  }
 },
 "nbformat": 4,
 "nbformat_minor": 5
}
