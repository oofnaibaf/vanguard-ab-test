{
 "cells": [
  {
   "cell_type": "code",
   "execution_count": 1,
   "id": "a28fb800-e599-4b4d-a174-4dde06ba10a4",
   "metadata": {},
   "outputs": [],
   "source": [
    "import pandas as pd\n",
    "import numpy as np\n",
    "import matplotlib.pyplot as plt\n",
    "import seaborn as sns"
   ]
  },
  {
   "cell_type": "code",
   "execution_count": 3,
   "id": "8004dce2-736d-473d-bcdf-f57bccb09dac",
   "metadata": {},
   "outputs": [
    {
     "name": "stderr",
     "output_type": "stream",
     "text": [
      "/var/folders/87/8lkk6ykj1_74chh73s5bkg8r0000gn/T/ipykernel_27330/3521527592.py:1: DtypeWarning: Columns (9) have mixed types. Specify dtype option on import or set low_memory=False.\n",
      "  df_clean= pd.read_csv('cleaned_data.csv')\n"
     ]
    }
   ],
   "source": [
    "df_clean= pd.read_csv('cleaned_data.csv')\n"
   ]
  },
  {
   "cell_type": "code",
   "execution_count": 5,
   "id": "03718c59-5443-41a0-8663-24013a8f8c30",
   "metadata": {},
   "outputs": [
    {
     "data": {
      "text/plain": [
       "Index(['client_id', 'clnt_tenure_yr', 'clnt_tenure_mnth', 'clnt_age', 'gendr',\n",
       "       'num_accts', 'bal', 'calls_6_mnth', 'logons_6_mnth', 'Variation',\n",
       "       'visitor_id', 'visit_id', 'process_step', 'date_time'],\n",
       "      dtype='object')"
      ]
     },
     "execution_count": 5,
     "metadata": {},
     "output_type": "execute_result"
    }
   ],
   "source": [
    "df_clean.columns\n"
   ]
  },
  {
   "cell_type": "code",
   "execution_count": 7,
   "id": "a2749449-68b9-49dc-bd5b-c50c25d005c2",
   "metadata": {},
   "outputs": [],
   "source": [
    "df_clean = df_clean.rename(columns={'Variation': 'variation'})"
   ]
  },
  {
   "cell_type": "code",
   "execution_count": 9,
   "id": "98ab0b24-3536-4db6-904e-52d51ec17c0a",
   "metadata": {},
   "outputs": [
    {
     "data": {
      "text/plain": [
       "Index(['client_id', 'clnt_tenure_yr', 'clnt_tenure_mnth', 'clnt_age', 'gendr',\n",
       "       'num_accts', 'bal', 'calls_6_mnth', 'logons_6_mnth', 'variation',\n",
       "       'visitor_id', 'visit_id', 'process_step', 'date_time'],\n",
       "      dtype='object')"
      ]
     },
     "execution_count": 9,
     "metadata": {},
     "output_type": "execute_result"
    }
   ],
   "source": [
    "df_clean.columns"
   ]
  },
  {
   "cell_type": "code",
   "execution_count": 11,
   "id": "2800dda7-da25-4531-8fcc-837c488b62c1",
   "metadata": {},
   "outputs": [
    {
     "data": {
      "text/plain": [
       "client_id             int64\n",
       "clnt_tenure_yr      float64\n",
       "clnt_tenure_mnth    float64\n",
       "clnt_age            float64\n",
       "gendr                object\n",
       "num_accts           float64\n",
       "bal                 float64\n",
       "calls_6_mnth        float64\n",
       "logons_6_mnth       float64\n",
       "variation            object\n",
       "visitor_id           object\n",
       "visit_id             object\n",
       "process_step         object\n",
       "date_time            object\n",
       "dtype: object"
      ]
     },
     "execution_count": 11,
     "metadata": {},
     "output_type": "execute_result"
    }
   ],
   "source": [
    "df_clean.dtypes"
   ]
  },
  {
   "cell_type": "code",
   "execution_count": 13,
   "id": "e54b12fa-6281-4006-a784-dcd8b545e0b1",
   "metadata": {},
   "outputs": [
    {
     "data": {
      "text/plain": [
       "6214558"
      ]
     },
     "execution_count": 13,
     "metadata": {},
     "output_type": "execute_result"
    }
   ],
   "source": [
    "df_clean.size"
   ]
  },
  {
   "cell_type": "code",
   "execution_count": 15,
   "id": "5ee4cd73-0fbb-4e47-8e6d-950dd6e77700",
   "metadata": {},
   "outputs": [
    {
     "data": {
      "text/html": [
       "<div>\n",
       "<style scoped>\n",
       "    .dataframe tbody tr th:only-of-type {\n",
       "        vertical-align: middle;\n",
       "    }\n",
       "\n",
       "    .dataframe tbody tr th {\n",
       "        vertical-align: top;\n",
       "    }\n",
       "\n",
       "    .dataframe thead th {\n",
       "        text-align: right;\n",
       "    }\n",
       "</style>\n",
       "<table border=\"1\" class=\"dataframe\">\n",
       "  <thead>\n",
       "    <tr style=\"text-align: right;\">\n",
       "      <th></th>\n",
       "      <th>client_id</th>\n",
       "      <th>clnt_tenure_yr</th>\n",
       "      <th>clnt_tenure_mnth</th>\n",
       "      <th>clnt_age</th>\n",
       "      <th>gendr</th>\n",
       "      <th>num_accts</th>\n",
       "      <th>bal</th>\n",
       "      <th>calls_6_mnth</th>\n",
       "      <th>logons_6_mnth</th>\n",
       "      <th>variation</th>\n",
       "      <th>visitor_id</th>\n",
       "      <th>visit_id</th>\n",
       "      <th>process_step</th>\n",
       "      <th>date_time</th>\n",
       "    </tr>\n",
       "  </thead>\n",
       "  <tbody>\n",
       "    <tr>\n",
       "      <th>0</th>\n",
       "      <td>836976</td>\n",
       "      <td>6.0</td>\n",
       "      <td>73.0</td>\n",
       "      <td>60.5</td>\n",
       "      <td>U</td>\n",
       "      <td>2.0</td>\n",
       "      <td>45105.3</td>\n",
       "      <td>6.0</td>\n",
       "      <td>9.0</td>\n",
       "      <td>Test</td>\n",
       "      <td>427070339_1413275162</td>\n",
       "      <td>228976764_46825473280_96584</td>\n",
       "      <td>confirm</td>\n",
       "      <td>2017-04-02 11:51:13</td>\n",
       "    </tr>\n",
       "    <tr>\n",
       "      <th>1</th>\n",
       "      <td>836976</td>\n",
       "      <td>6.0</td>\n",
       "      <td>73.0</td>\n",
       "      <td>60.5</td>\n",
       "      <td>U</td>\n",
       "      <td>2.0</td>\n",
       "      <td>45105.3</td>\n",
       "      <td>6.0</td>\n",
       "      <td>9.0</td>\n",
       "      <td>Test</td>\n",
       "      <td>427070339_1413275162</td>\n",
       "      <td>228976764_46825473280_96584</td>\n",
       "      <td>confirm</td>\n",
       "      <td>2017-04-02 11:47:50</td>\n",
       "    </tr>\n",
       "    <tr>\n",
       "      <th>2</th>\n",
       "      <td>836976</td>\n",
       "      <td>6.0</td>\n",
       "      <td>73.0</td>\n",
       "      <td>60.5</td>\n",
       "      <td>U</td>\n",
       "      <td>2.0</td>\n",
       "      <td>45105.3</td>\n",
       "      <td>6.0</td>\n",
       "      <td>9.0</td>\n",
       "      <td>Test</td>\n",
       "      <td>427070339_1413275162</td>\n",
       "      <td>228976764_46825473280_96584</td>\n",
       "      <td>confirm</td>\n",
       "      <td>2017-04-02 11:46:45</td>\n",
       "    </tr>\n",
       "    <tr>\n",
       "      <th>3</th>\n",
       "      <td>836976</td>\n",
       "      <td>6.0</td>\n",
       "      <td>73.0</td>\n",
       "      <td>60.5</td>\n",
       "      <td>U</td>\n",
       "      <td>2.0</td>\n",
       "      <td>45105.3</td>\n",
       "      <td>6.0</td>\n",
       "      <td>9.0</td>\n",
       "      <td>Test</td>\n",
       "      <td>427070339_1413275162</td>\n",
       "      <td>228976764_46825473280_96584</td>\n",
       "      <td>step_3</td>\n",
       "      <td>2017-04-02 11:23:08</td>\n",
       "    </tr>\n",
       "    <tr>\n",
       "      <th>4</th>\n",
       "      <td>836976</td>\n",
       "      <td>6.0</td>\n",
       "      <td>73.0</td>\n",
       "      <td>60.5</td>\n",
       "      <td>U</td>\n",
       "      <td>2.0</td>\n",
       "      <td>45105.3</td>\n",
       "      <td>6.0</td>\n",
       "      <td>9.0</td>\n",
       "      <td>Test</td>\n",
       "      <td>427070339_1413275162</td>\n",
       "      <td>228976764_46825473280_96584</td>\n",
       "      <td>step_2</td>\n",
       "      <td>2017-04-02 11:22:24</td>\n",
       "    </tr>\n",
       "  </tbody>\n",
       "</table>\n",
       "</div>"
      ],
      "text/plain": [
       "   client_id  clnt_tenure_yr  clnt_tenure_mnth  clnt_age gendr  num_accts  \\\n",
       "0     836976             6.0              73.0      60.5     U        2.0   \n",
       "1     836976             6.0              73.0      60.5     U        2.0   \n",
       "2     836976             6.0              73.0      60.5     U        2.0   \n",
       "3     836976             6.0              73.0      60.5     U        2.0   \n",
       "4     836976             6.0              73.0      60.5     U        2.0   \n",
       "\n",
       "       bal  calls_6_mnth  logons_6_mnth variation            visitor_id  \\\n",
       "0  45105.3           6.0            9.0      Test  427070339_1413275162   \n",
       "1  45105.3           6.0            9.0      Test  427070339_1413275162   \n",
       "2  45105.3           6.0            9.0      Test  427070339_1413275162   \n",
       "3  45105.3           6.0            9.0      Test  427070339_1413275162   \n",
       "4  45105.3           6.0            9.0      Test  427070339_1413275162   \n",
       "\n",
       "                      visit_id process_step            date_time  \n",
       "0  228976764_46825473280_96584      confirm  2017-04-02 11:51:13  \n",
       "1  228976764_46825473280_96584      confirm  2017-04-02 11:47:50  \n",
       "2  228976764_46825473280_96584      confirm  2017-04-02 11:46:45  \n",
       "3  228976764_46825473280_96584       step_3  2017-04-02 11:23:08  \n",
       "4  228976764_46825473280_96584       step_2  2017-04-02 11:22:24  "
      ]
     },
     "execution_count": 15,
     "metadata": {},
     "output_type": "execute_result"
    }
   ],
   "source": [
    "df_clean.head()"
   ]
  },
  {
   "cell_type": "code",
   "execution_count": 17,
   "id": "51c8c448-0311-464f-b8cf-cc61b967a89e",
   "metadata": {},
   "outputs": [
    {
     "data": {
      "text/plain": [
       "(443897, 14)"
      ]
     },
     "execution_count": 17,
     "metadata": {},
     "output_type": "execute_result"
    }
   ],
   "source": [
    "df_clean.shape\n"
   ]
  },
  {
   "cell_type": "code",
   "execution_count": 19,
   "id": "34c88b81-baeb-4adc-b5cf-53b682e03284",
   "metadata": {},
   "outputs": [
    {
     "name": "stdout",
     "output_type": "stream",
     "text": [
      "<class 'pandas.core.frame.DataFrame'>\n",
      "RangeIndex: 443897 entries, 0 to 443896\n",
      "Data columns (total 14 columns):\n",
      " #   Column            Non-Null Count   Dtype  \n",
      "---  ------            --------------   -----  \n",
      " 0   client_id         443897 non-null  int64  \n",
      " 1   clnt_tenure_yr    443784 non-null  float64\n",
      " 2   clnt_tenure_mnth  443784 non-null  float64\n",
      " 3   clnt_age          443772 non-null  float64\n",
      " 4   gendr             443784 non-null  object \n",
      " 5   num_accts         443784 non-null  float64\n",
      " 6   bal               443784 non-null  float64\n",
      " 7   calls_6_mnth      443784 non-null  float64\n",
      " 8   logons_6_mnth     443784 non-null  float64\n",
      " 9   variation         317235 non-null  object \n",
      " 10  visitor_id        443897 non-null  object \n",
      " 11  visit_id          443897 non-null  object \n",
      " 12  process_step      443897 non-null  object \n",
      " 13  date_time         443897 non-null  object \n",
      "dtypes: float64(7), int64(1), object(6)\n",
      "memory usage: 47.4+ MB\n"
     ]
    }
   ],
   "source": [
    "df_clean.info()"
   ]
  },
  {
   "cell_type": "code",
   "execution_count": 21,
   "id": "a90b430e-b34e-4530-8580-fb07ba98dc3c",
   "metadata": {},
   "outputs": [
    {
     "data": {
      "text/plain": [
       "0"
      ]
     },
     "execution_count": 21,
     "metadata": {},
     "output_type": "execute_result"
    }
   ],
   "source": [
    "df_clean.duplicated().sum()"
   ]
  },
  {
   "cell_type": "markdown",
   "id": "e4a32883-1c9a-4a39-a94b-5573c8ca3a23",
   "metadata": {},
   "source": [
    "## droping missing values"
   ]
  },
  {
   "cell_type": "code",
   "execution_count": 24,
   "id": "f6f4ff18-feb2-44e9-b39c-ff1f1dd5380e",
   "metadata": {},
   "outputs": [
    {
     "data": {
      "text/plain": [
       "client_id                0\n",
       "clnt_tenure_yr         113\n",
       "clnt_tenure_mnth       113\n",
       "clnt_age               125\n",
       "gendr                  113\n",
       "num_accts              113\n",
       "bal                    113\n",
       "calls_6_mnth           113\n",
       "logons_6_mnth          113\n",
       "variation           126662\n",
       "visitor_id               0\n",
       "visit_id                 0\n",
       "process_step             0\n",
       "date_time                0\n",
       "dtype: int64"
      ]
     },
     "execution_count": 24,
     "metadata": {},
     "output_type": "execute_result"
    }
   ],
   "source": [
    "df_clean.isnull().sum()"
   ]
  },
  {
   "cell_type": "code",
   "execution_count": 26,
   "id": "37b33e9c-e0a7-4ecf-8813-21c66a73c780",
   "metadata": {},
   "outputs": [
    {
     "data": {
      "text/plain": [
       "array([ 6.,  7.,  5., 16., 12., 30., 15.,  8.,  4.,  3., 10., 11., 13.,\n",
       "       14., 19., 18., 25., 23., 21., 17.,  9., 27., 24., 20., 28., 22.,\n",
       "       29., 46., 26., 32., 33., 35.,  2., 38., 31., 48., 34., 36., 51.,\n",
       "       nan, 47., 49., 37., 39., 40., 55., 42., 44., 43., 50., 54., 41.,\n",
       "       45., 52., 62.])"
      ]
     },
     "execution_count": 26,
     "metadata": {},
     "output_type": "execute_result"
    }
   ],
   "source": [
    "df_clean[\"clnt_tenure_yr\"].unique()"
   ]
  },
  {
   "cell_type": "code",
   "execution_count": 28,
   "id": "afab2c5a-1f4a-42bd-a4dc-5c16a3bdb20a",
   "metadata": {},
   "outputs": [
    {
     "data": {
      "text/plain": [
       "113"
      ]
     },
     "execution_count": 28,
     "metadata": {},
     "output_type": "execute_result"
    }
   ],
   "source": [
    "df_clean[\"clnt_tenure_yr\"].isnull().sum()"
   ]
  },
  {
   "cell_type": "code",
   "execution_count": 34,
   "id": "99779f22-99a5-49c4-a827-4ed836617ac7",
   "metadata": {},
   "outputs": [
    {
     "data": {
      "text/plain": [
       "client_id           0\n",
       "clnt_tenure_yr      0\n",
       "clnt_tenure_mnth    0\n",
       "clnt_age            0\n",
       "gendr               0\n",
       "num_accts           0\n",
       "bal                 0\n",
       "calls_6_mnth        0\n",
       "logons_6_mnth       0\n",
       "variation           0\n",
       "visitor_id          0\n",
       "visit_id            0\n",
       "process_step        0\n",
       "date_time           0\n",
       "dtype: int64"
      ]
     },
     "execution_count": 34,
     "metadata": {},
     "output_type": "execute_result"
    }
   ],
   "source": [
    "#cleaning lot of missing values\n",
    "df_clean = df_clean.dropna()\n",
    "df_clean.isnull().sum()"
   ]
  },
  {
   "cell_type": "code",
   "execution_count": 36,
   "id": "b3c279bc-cb2b-4bb9-a138-fe4c9b9fab00",
   "metadata": {},
   "outputs": [
    {
     "data": {
      "text/plain": [
       "array([ 45105.3 , 110860.3 ,  52467.79, ...,  44837.16,  44994.24,\n",
       "       209278.15])"
      ]
     },
     "execution_count": 36,
     "metadata": {},
     "output_type": "execute_result"
    }
   ],
   "source": [
    "df_clean[\"bal\"].unique()"
   ]
  },
  {
   "cell_type": "markdown",
   "id": "a6df012f-48bf-40fc-91e1-eb9d3274e047",
   "metadata": {},
   "source": [
    "## Rounded numbers in bal column\n"
   ]
  },
  {
   "cell_type": "code",
   "execution_count": 39,
   "id": "f26b06b7-f3f1-494d-b866-7dcdf009f396",
   "metadata": {},
   "outputs": [],
   "source": [
    "# rounded numbers in balance\n",
    "df_clean[\"bal\"]= df_clean[\"bal\"].round(2)\n"
   ]
  },
  {
   "cell_type": "code",
   "execution_count": 41,
   "id": "fa554552-ec8a-4ece-823e-dd498738363e",
   "metadata": {},
   "outputs": [],
   "source": [
    "df_clean.loc[:, \"bal\"] = df_clean[\"bal\"].round(2)\n"
   ]
  },
  {
   "cell_type": "code",
   "execution_count": 43,
   "id": "db194171-5fb4-4248-aea7-b2a716157d81",
   "metadata": {},
   "outputs": [
    {
     "data": {
      "text/plain": [
       "0          45105.30\n",
       "1          45105.30\n",
       "2          45105.30\n",
       "3          45105.30\n",
       "4          45105.30\n",
       "            ...    \n",
       "317230    209278.15\n",
       "317231    209278.15\n",
       "317232    209278.15\n",
       "317233    209278.15\n",
       "317234    209278.15\n",
       "Name: bal, Length: 317123, dtype: float64"
      ]
     },
     "execution_count": 43,
     "metadata": {},
     "output_type": "execute_result"
    }
   ],
   "source": [
    "df_clean[\"bal\"]"
   ]
  },
  {
   "cell_type": "code",
   "execution_count": null,
   "id": "7a0ea0fe-0fd5-42cd-b3d7-5d0d92b574d7",
   "metadata": {},
   "outputs": [],
   "source": []
  },
  {
   "cell_type": "code",
   "execution_count": 59,
   "id": "af1e144b-366e-49a8-9e48-1868c41a9e61",
   "metadata": {},
   "outputs": [
    {
     "data": {
      "image/png": "[encoded data removed]",
      "text/plain": [
       "<Figure size 1000x600 with 1 Axes>"
      ]
     },
     "metadata": {},
     "output_type": "display_data"
    }
   ],
   "source": [
    "plt.figure(figsize=(10, 6))  \n",
    "sns.histplot(df_clean['clnt_age'], bins=30, kde=True, color='skyblue')\n",
    "plt.title(\"Client Age Distribution\")\n",
    "plt.show()"
   ]
  },
  {
   "cell_type": "markdown",
   "id": "ccc12d67-5d22-4995-a626-d8e8e736a43a",
   "metadata": {},
   "source": [
    "## KPI"
   ]
  },
  {
   "cell_type": "code",
   "execution_count": 51,
   "id": "c2159ce5-a546-4834-928a-2ed18d9051b0",
   "metadata": {},
   "outputs": [
    {
     "name": "stdout",
     "output_type": "stream",
     "text": [
      "Test Completion Rate: 0.6519660291560786\n",
      "Control Completion Rate: 0.5922880743024628\n"
     ]
    }
   ],
   "source": [
    "# For 'Test' group:\n",
    "completion_test = df_clean[(df_clean['variation'] == 'Test') & (df_clean['process_step'] == 'confirm')]['visitor_id'].nunique() / df_clean[df_clean['variation'] == 'Test']['visitor_id'].nunique()\n",
    "\n",
    "# For 'Control' group:\n",
    "completion_control = df_clean[(df_clean['variation'] == 'Control') & (df_clean['process_step'] == 'confirm')]['visitor_id'].nunique() / df_clean[df_clean['variation'] == 'Control']['visitor_id'].nunique()\n",
    "\n",
    "print(f\"Test Completion Rate: {completion_test}\")\n",
    "print(f\"Control Completion Rate: {completion_control}\")"
   ]
  },
  {
   "cell_type": "code",
   "execution_count": 68,
   "id": "4df6b109-2dd7-41ff-8b59-4adcb8e7dfcb",
   "metadata": {},
   "outputs": [
    {
     "name": "stdout",
     "output_type": "stream",
     "text": [
      "process_step\n",
      "confirm    129.751824\n",
      "start      162.416480\n",
      "step_1      40.123008\n",
      "step_2      43.984299\n",
      "step_3      95.868958\n",
      "Name: time_spent, dtype: float64\n"
     ]
    }
   ],
   "source": [
    "# Convert 'date_time' to datetime format\n",
    "df_clean['date_time'] = pd.to_datetime(df_clean['date_time'], errors='coerce')\n",
    "#Sort the data by 'visit_id' and 'date_time' to ensure correct time sequence\n",
    "df_clean = df_clean.sort_values(by=['visit_id', 'date_time'])\n",
    "\n",
    "\n",
    "df_clean['time_spent'] = df_clean.groupby('visit_id')['date_time'].diff().dt.total_seconds()\n",
    "avg_time_per_step = df_clean.groupby('process_step')['time_spent'].mean()\n",
    "\n",
    "print(avg_time_per_step)"
   ]
  },
  {
   "cell_type": "code",
   "execution_count": 76,
   "id": "50419386-003e-42a4-a21e-1746bca8adef",
   "metadata": {},
   "outputs": [
    {
     "data": {
      "image/png": "[encoded data removed]",
      "text/plain": [
       "<Figure size 1000x600 with 1 Axes>"
      ]
     },
     "metadata": {},
     "output_type": "display_data"
    }
   ],
   "source": [
    "plt.figure(figsize=(10, 6))  # Set the figure size\n",
    "sns.barplot(x=avg_time_per_step.index, y=avg_time_per_step.values);\n",
    "\n",
    "# Adding labels and title\n",
    "plt.title('Average Time Spent Per Process Step', fontsize=16);\n",
    "plt.xlabel('Process Step', fontsize=14);\n",
    "plt.ylabel('Average Time Spent (seconds)', fontsize=14);\n",
    "plt.xticks(rotation=45);"
   ]
  },
  {
   "cell_type": "markdown",
   "id": "e6a9c371-8186-4b1c-ab55-9457dcc25e04",
   "metadata": {},
   "source": [
    "## Erorr rate\n"
   ]
  },
  {
   "cell_type": "code",
   "execution_count": null,
   "id": "b36fd034-094a-4886-9fb0-ff5af492f7be",
   "metadata": {},
   "outputs": [],
   "source": []
  },
  {
   "cell_type": "code",
   "execution_count": null,
   "id": "0786bb91-238c-4413-8fc5-8c81cc8da5af",
   "metadata": {},
   "outputs": [],
   "source": []
  },
  {
   "cell_type": "code",
   "execution_count": null,
   "id": "7541eb0a-c910-4f3c-8431-077919699e19",
   "metadata": {},
   "outputs": [],
   "source": []
  },
  {
   "cell_type": "code",
   "execution_count": null,
   "id": "c0f069a4-e09f-4286-b49d-891d8d581479",
   "metadata": {},
   "outputs": [],
   "source": [
    "df_clean.to_csv(\"clean_data_v1.csv\", index=False)"
   ]
  }
 ],
 "metadata": {
  "kernelspec": {
   "display_name": "Python 3 (ipykernel)",
   "language": "python",
   "name": "python3"
  },
  "language_info": {
   "codemirror_mode": {
    "name": "ipython",
    "version": 3
   },
   "file_extension": ".py",
   "mimetype": "text/x-python",
   "name": "python",
   "nbconvert_exporter": "python",
   "pygments_lexer": "ipython3",
   "version": "3.12.4"
  }
 },
 "nbformat": 4,
 "nbformat_minor": 5
}
