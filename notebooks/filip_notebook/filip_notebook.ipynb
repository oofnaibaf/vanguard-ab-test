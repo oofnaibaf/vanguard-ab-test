{
 "cells": [
  {
   "cell_type": "code",
   "execution_count": 295,
   "id": "a28fb800-e599-4b4d-a174-4dde06ba10a4",
   "metadata": {},
   "outputs": [],
   "source": [
    "import pandas as pd\n",
    "import numpy as np\n",
    "import matplotlib.pyplot as plt\n",
    "import seaborn as sns\n",
    "import matplotlib.pyplot as plt\n",
    "from scipy import stats "
   ]
  },
  {
   "cell_type": "code",
   "execution_count": 297,
   "id": "8004dce2-736d-473d-bcdf-f57bccb09dac",
   "metadata": {},
   "outputs": [
    {
     "name": "stderr",
     "output_type": "stream",
     "text": [
      "/var/folders/87/8lkk6ykj1_74chh73s5bkg8r0000gn/T/ipykernel_63108/3521527592.py:1: DtypeWarning: Columns (9) have mixed types. Specify dtype option on import or set low_memory=False.\n",
      "  df_clean= pd.read_csv('cleaned_data.csv')\n"
     ]
    }
   ],
   "source": [
    "df_clean= pd.read_csv('cleaned_data.csv')\n"
   ]
  },
  {
   "cell_type": "code",
   "execution_count": 299,
   "id": "03718c59-5443-41a0-8663-24013a8f8c30",
   "metadata": {},
   "outputs": [
    {
     "data": {
      "text/plain": [
       "Index(['client_id', 'clnt_tenure_yr', 'clnt_tenure_mnth', 'clnt_age', 'gendr',\n",
       "       'num_accts', 'bal', 'calls_6_mnth', 'logons_6_mnth', 'Variation',\n",
       "       'visitor_id', 'visit_id', 'process_step', 'date_time'],\n",
       "      dtype='object')"
      ]
     },
     "execution_count": 299,
     "metadata": {},
     "output_type": "execute_result"
    }
   ],
   "source": [
    "df_clean.columns\n"
   ]
  },
  {
   "cell_type": "code",
   "execution_count": 301,
   "id": "a2749449-68b9-49dc-bd5b-c50c25d005c2",
   "metadata": {},
   "outputs": [],
   "source": [
    "df_clean = df_clean.rename(columns={'Variation': 'variation'})"
   ]
  },
  {
   "cell_type": "code",
   "execution_count": 303,
   "id": "98ab0b24-3536-4db6-904e-52d51ec17c0a",
   "metadata": {},
   "outputs": [
    {
     "data": {
      "text/plain": [
       "Index(['client_id', 'clnt_tenure_yr', 'clnt_tenure_mnth', 'clnt_age', 'gendr',\n",
       "       'num_accts', 'bal', 'calls_6_mnth', 'logons_6_mnth', 'variation',\n",
       "       'visitor_id', 'visit_id', 'process_step', 'date_time'],\n",
       "      dtype='object')"
      ]
     },
     "execution_count": 303,
     "metadata": {},
     "output_type": "execute_result"
    }
   ],
   "source": [
    "df_clean.columns"
   ]
  },
  {
   "cell_type": "code",
   "execution_count": 305,
   "id": "2800dda7-da25-4531-8fcc-837c488b62c1",
   "metadata": {},
   "outputs": [
    {
     "data": {
      "text/plain": [
       "client_id             int64\n",
       "clnt_tenure_yr      float64\n",
       "clnt_tenure_mnth    float64\n",
       "clnt_age            float64\n",
       "gendr                object\n",
       "num_accts           float64\n",
       "bal                 float64\n",
       "calls_6_mnth        float64\n",
       "logons_6_mnth       float64\n",
       "variation            object\n",
       "visitor_id           object\n",
       "visit_id             object\n",
       "process_step         object\n",
       "date_time            object\n",
       "dtype: object"
      ]
     },
     "execution_count": 305,
     "metadata": {},
     "output_type": "execute_result"
    }
   ],
   "source": [
    "df_clean.dtypes"
   ]
  },
  {
   "cell_type": "code",
   "execution_count": 307,
   "id": "e54b12fa-6281-4006-a784-dcd8b545e0b1",
   "metadata": {},
   "outputs": [
    {
     "data": {
      "text/plain": [
       "6214558"
      ]
     },
     "execution_count": 307,
     "metadata": {},
     "output_type": "execute_result"
    }
   ],
   "source": [
    "df_clean.size"
   ]
  },
  {
   "cell_type": "code",
   "execution_count": 309,
   "id": "5ee4cd73-0fbb-4e47-8e6d-950dd6e77700",
   "metadata": {},
   "outputs": [
    {
     "data": {
      "text/html": [
       "<div>\n",
       "<style scoped>\n",
       "    .dataframe tbody tr th:only-of-type {\n",
       "        vertical-align: middle;\n",
       "    }\n",
       "\n",
       "    .dataframe tbody tr th {\n",
       "        vertical-align: top;\n",
       "    }\n",
       "\n",
       "    .dataframe thead th {\n",
       "        text-align: right;\n",
       "    }\n",
       "</style>\n",
       "<table border=\"1\" class=\"dataframe\">\n",
       "  <thead>\n",
       "    <tr style=\"text-align: right;\">\n",
       "      <th></th>\n",
       "      <th>client_id</th>\n",
       "      <th>clnt_tenure_yr</th>\n",
       "      <th>clnt_tenure_mnth</th>\n",
       "      <th>clnt_age</th>\n",
       "      <th>gendr</th>\n",
       "      <th>num_accts</th>\n",
       "      <th>bal</th>\n",
       "      <th>calls_6_mnth</th>\n",
       "      <th>logons_6_mnth</th>\n",
       "      <th>variation</th>\n",
       "      <th>visitor_id</th>\n",
       "      <th>visit_id</th>\n",
       "      <th>process_step</th>\n",
       "      <th>date_time</th>\n",
       "    </tr>\n",
       "  </thead>\n",
       "  <tbody>\n",
       "    <tr>\n",
       "      <th>0</th>\n",
       "      <td>836976</td>\n",
       "      <td>6.0</td>\n",
       "      <td>73.0</td>\n",
       "      <td>60.5</td>\n",
       "      <td>U</td>\n",
       "      <td>2.0</td>\n",
       "      <td>45105.3</td>\n",
       "      <td>6.0</td>\n",
       "      <td>9.0</td>\n",
       "      <td>Test</td>\n",
       "      <td>427070339_1413275162</td>\n",
       "      <td>228976764_46825473280_96584</td>\n",
       "      <td>confirm</td>\n",
       "      <td>2017-04-02 11:51:13</td>\n",
       "    </tr>\n",
       "    <tr>\n",
       "      <th>1</th>\n",
       "      <td>836976</td>\n",
       "      <td>6.0</td>\n",
       "      <td>73.0</td>\n",
       "      <td>60.5</td>\n",
       "      <td>U</td>\n",
       "      <td>2.0</td>\n",
       "      <td>45105.3</td>\n",
       "      <td>6.0</td>\n",
       "      <td>9.0</td>\n",
       "      <td>Test</td>\n",
       "      <td>427070339_1413275162</td>\n",
       "      <td>228976764_46825473280_96584</td>\n",
       "      <td>confirm</td>\n",
       "      <td>2017-04-02 11:47:50</td>\n",
       "    </tr>\n",
       "    <tr>\n",
       "      <th>2</th>\n",
       "      <td>836976</td>\n",
       "      <td>6.0</td>\n",
       "      <td>73.0</td>\n",
       "      <td>60.5</td>\n",
       "      <td>U</td>\n",
       "      <td>2.0</td>\n",
       "      <td>45105.3</td>\n",
       "      <td>6.0</td>\n",
       "      <td>9.0</td>\n",
       "      <td>Test</td>\n",
       "      <td>427070339_1413275162</td>\n",
       "      <td>228976764_46825473280_96584</td>\n",
       "      <td>confirm</td>\n",
       "      <td>2017-04-02 11:46:45</td>\n",
       "    </tr>\n",
       "    <tr>\n",
       "      <th>3</th>\n",
       "      <td>836976</td>\n",
       "      <td>6.0</td>\n",
       "      <td>73.0</td>\n",
       "      <td>60.5</td>\n",
       "      <td>U</td>\n",
       "      <td>2.0</td>\n",
       "      <td>45105.3</td>\n",
       "      <td>6.0</td>\n",
       "      <td>9.0</td>\n",
       "      <td>Test</td>\n",
       "      <td>427070339_1413275162</td>\n",
       "      <td>228976764_46825473280_96584</td>\n",
       "      <td>step_3</td>\n",
       "      <td>2017-04-02 11:23:08</td>\n",
       "    </tr>\n",
       "    <tr>\n",
       "      <th>4</th>\n",
       "      <td>836976</td>\n",
       "      <td>6.0</td>\n",
       "      <td>73.0</td>\n",
       "      <td>60.5</td>\n",
       "      <td>U</td>\n",
       "      <td>2.0</td>\n",
       "      <td>45105.3</td>\n",
       "      <td>6.0</td>\n",
       "      <td>9.0</td>\n",
       "      <td>Test</td>\n",
       "      <td>427070339_1413275162</td>\n",
       "      <td>228976764_46825473280_96584</td>\n",
       "      <td>step_2</td>\n",
       "      <td>2017-04-02 11:22:24</td>\n",
       "    </tr>\n",
       "  </tbody>\n",
       "</table>\n",
       "</div>"
      ],
      "text/plain": [
       "   client_id  clnt_tenure_yr  clnt_tenure_mnth  clnt_age gendr  num_accts  \\\n",
       "0     836976             6.0              73.0      60.5     U        2.0   \n",
       "1     836976             6.0              73.0      60.5     U        2.0   \n",
       "2     836976             6.0              73.0      60.5     U        2.0   \n",
       "3     836976             6.0              73.0      60.5     U        2.0   \n",
       "4     836976             6.0              73.0      60.5     U        2.0   \n",
       "\n",
       "       bal  calls_6_mnth  logons_6_mnth variation            visitor_id  \\\n",
       "0  45105.3           6.0            9.0      Test  427070339_1413275162   \n",
       "1  45105.3           6.0            9.0      Test  427070339_1413275162   \n",
       "2  45105.3           6.0            9.0      Test  427070339_1413275162   \n",
       "3  45105.3           6.0            9.0      Test  427070339_1413275162   \n",
       "4  45105.3           6.0            9.0      Test  427070339_1413275162   \n",
       "\n",
       "                      visit_id process_step            date_time  \n",
       "0  228976764_46825473280_96584      confirm  2017-04-02 11:51:13  \n",
       "1  228976764_46825473280_96584      confirm  2017-04-02 11:47:50  \n",
       "2  228976764_46825473280_96584      confirm  2017-04-02 11:46:45  \n",
       "3  228976764_46825473280_96584       step_3  2017-04-02 11:23:08  \n",
       "4  228976764_46825473280_96584       step_2  2017-04-02 11:22:24  "
      ]
     },
     "execution_count": 309,
     "metadata": {},
     "output_type": "execute_result"
    }
   ],
   "source": [
    "df_clean.head()"
   ]
  },
  {
   "cell_type": "code",
   "execution_count": 311,
   "id": "51c8c448-0311-464f-b8cf-cc61b967a89e",
   "metadata": {},
   "outputs": [
    {
     "data": {
      "text/plain": [
       "(443897, 14)"
      ]
     },
     "execution_count": 311,
     "metadata": {},
     "output_type": "execute_result"
    }
   ],
   "source": [
    "df_clean.shape\n"
   ]
  },
  {
   "cell_type": "code",
   "execution_count": 313,
   "id": "34c88b81-baeb-4adc-b5cf-53b682e03284",
   "metadata": {},
   "outputs": [],
   "source": [
    "#df_clean.info()"
   ]
  },
  {
   "cell_type": "code",
   "execution_count": 315,
   "id": "a90b430e-b34e-4530-8580-fb07ba98dc3c",
   "metadata": {},
   "outputs": [
    {
     "data": {
      "text/plain": [
       "0"
      ]
     },
     "execution_count": 315,
     "metadata": {},
     "output_type": "execute_result"
    }
   ],
   "source": [
    "df_clean.duplicated().sum()"
   ]
  },
  {
   "cell_type": "code",
   "execution_count": 317,
   "id": "95fe2fd9-222f-471a-8e5a-77d237694f64",
   "metadata": {},
   "outputs": [],
   "source": [
    "df_clean = df_clean.drop_duplicates(subset=['client_id'], keep='first')"
   ]
  },
  {
   "cell_type": "code",
   "execution_count": 319,
   "id": "bf763261-b2b3-4e8b-bc74-2631f764d434",
   "metadata": {},
   "outputs": [
    {
     "data": {
      "text/plain": [
       "(70609, 14)"
      ]
     },
     "execution_count": 319,
     "metadata": {},
     "output_type": "execute_result"
    }
   ],
   "source": [
    "df_clean.shape"
   ]
  },
  {
   "cell_type": "markdown",
   "id": "e4a32883-1c9a-4a39-a94b-5573c8ca3a23",
   "metadata": {},
   "source": [
    "## droping missing values"
   ]
  },
  {
   "cell_type": "code",
   "execution_count": 322,
   "id": "f6f4ff18-feb2-44e9-b39c-ff1f1dd5380e",
   "metadata": {},
   "outputs": [
    {
     "data": {
      "text/plain": [
       "client_id               0\n",
       "clnt_tenure_yr         14\n",
       "clnt_tenure_mnth       14\n",
       "clnt_age               15\n",
       "gendr                  14\n",
       "num_accts              14\n",
       "bal                    14\n",
       "calls_6_mnth           14\n",
       "logons_6_mnth          14\n",
       "variation           20109\n",
       "visitor_id              0\n",
       "visit_id                0\n",
       "process_step            0\n",
       "date_time               0\n",
       "dtype: int64"
      ]
     },
     "execution_count": 322,
     "metadata": {},
     "output_type": "execute_result"
    }
   ],
   "source": [
    "df_clean.isnull().sum()"
   ]
  },
  {
   "cell_type": "code",
   "execution_count": 324,
   "id": "37b33e9c-e0a7-4ecf-8813-21c66a73c780",
   "metadata": {},
   "outputs": [
    {
     "data": {
      "text/plain": [
       "array([ 6.,  7.,  5., 16., 12., 30., 15.,  8.,  4.,  3., 10., 11., 13.,\n",
       "       14., 19., 18., 25., 23., 21., 17.,  9., 27., 24., 20., 28., 22.,\n",
       "       29., 46., 26., 32., 33., 35.,  2., 38., 31., 48., 34., 36., 51.,\n",
       "       nan, 47., 49., 37., 39., 40., 55., 42., 44., 43., 50., 54., 41.,\n",
       "       45., 52., 62.])"
      ]
     },
     "execution_count": 324,
     "metadata": {},
     "output_type": "execute_result"
    }
   ],
   "source": [
    "#df_clean[\"clnt_tenure_yr\"].unique()"
   ]
  },
  {
   "cell_type": "code",
   "execution_count": 326,
   "id": "afab2c5a-1f4a-42bd-a4dc-5c16a3bdb20a",
   "metadata": {},
   "outputs": [
    {
     "data": {
      "text/plain": [
       "14"
      ]
     },
     "execution_count": 326,
     "metadata": {},
     "output_type": "execute_result"
    }
   ],
   "source": [
    "#df_clean[\"clnt_tenure_yr\"].isnull().sum()"
   ]
  },
  {
   "cell_type": "code",
   "execution_count": 328,
   "id": "99779f22-99a5-49c4-a827-4ed836617ac7",
   "metadata": {},
   "outputs": [
    {
     "data": {
      "text/plain": [
       "client_id           0\n",
       "clnt_tenure_yr      0\n",
       "clnt_tenure_mnth    0\n",
       "clnt_age            0\n",
       "gendr               0\n",
       "num_accts           0\n",
       "bal                 0\n",
       "calls_6_mnth        0\n",
       "logons_6_mnth       0\n",
       "variation           0\n",
       "visitor_id          0\n",
       "visit_id            0\n",
       "process_step        0\n",
       "date_time           0\n",
       "dtype: int64"
      ]
     },
     "execution_count": 328,
     "metadata": {},
     "output_type": "execute_result"
    }
   ],
   "source": [
    "#cleaning lot of missing values\n",
    "df_clean = df_clean.dropna()\n",
    "df_clean.isnull().sum()"
   ]
  },
  {
   "cell_type": "code",
   "execution_count": 330,
   "id": "b3c279bc-cb2b-4bb9-a138-fe4c9b9fab00",
   "metadata": {},
   "outputs": [
    {
     "data": {
      "text/plain": [
       "array([ 45105.3 , 110860.3 ,  52467.79, ...,  44837.16,  44994.24,\n",
       "       209278.15])"
      ]
     },
     "execution_count": 330,
     "metadata": {},
     "output_type": "execute_result"
    }
   ],
   "source": [
    "df_clean[\"bal\"].unique()"
   ]
  },
  {
   "cell_type": "markdown",
   "id": "a6df012f-48bf-40fc-91e1-eb9d3274e047",
   "metadata": {},
   "source": [
    "## Rounded numbers in bal column\n"
   ]
  },
  {
   "cell_type": "code",
   "execution_count": 333,
   "id": "f26b06b7-f3f1-494d-b866-7dcdf009f396",
   "metadata": {},
   "outputs": [],
   "source": [
    "# rounded numbers in balance\n",
    "df_clean[\"bal\"]= df_clean[\"bal\"].round(2)\n"
   ]
  },
  {
   "cell_type": "code",
   "execution_count": 335,
   "id": "fa554552-ec8a-4ece-823e-dd498738363e",
   "metadata": {},
   "outputs": [],
   "source": [
    "df_clean.loc[:, \"bal\"] = df_clean[\"bal\"].round(2)\n"
   ]
  },
  {
   "cell_type": "code",
   "execution_count": 337,
   "id": "db194171-5fb4-4248-aea7-b2a716157d81",
   "metadata": {},
   "outputs": [
    {
     "data": {
      "text/plain": [
       "0           45105.30\n",
       "11         110860.30\n",
       "17          52467.79\n",
       "22          67454.65\n",
       "23         103671.75\n",
       "             ...    \n",
       "317197     372100.59\n",
       "317209    4279873.38\n",
       "317214      44837.16\n",
       "317224      44994.24\n",
       "317229     209278.15\n",
       "Name: bal, Length: 50487, dtype: float64"
      ]
     },
     "execution_count": 337,
     "metadata": {},
     "output_type": "execute_result"
    }
   ],
   "source": [
    "df_clean[\"bal\"]"
   ]
  },
  {
   "cell_type": "code",
   "execution_count": null,
   "id": "7a0ea0fe-0fd5-42cd-b3d7-5d0d92b574d7",
   "metadata": {},
   "outputs": [],
   "source": []
  },
  {
   "cell_type": "code",
   "execution_count": 340,
   "id": "af1e144b-366e-49a8-9e48-1868c41a9e61",
   "metadata": {},
   "outputs": [
    {
     "data": {
      "image/png": "[encoded data removed]",
      "text/plain": [
       "<Figure size 1000x600 with 1 Axes>"
      ]
     },
     "metadata": {},
     "output_type": "display_data"
    }
   ],
   "source": [
    "plt.figure(figsize=(10, 6))  \n",
    "sns.histplot(df_clean['clnt_age'], bins=30, kde=True, color='skyblue')\n",
    "plt.title(\"Client Age Distribution\")\n",
    "plt.savefig('Client_age_distribution.png')\n",
    "plt.show()\n",
    "\n"
   ]
  },
  {
   "cell_type": "code",
   "execution_count": 483,
   "id": "6e5a29ea-311a-4fa5-b960-3bd24d59b0b9",
   "metadata": {},
   "outputs": [
    {
     "data": {
      "image/png": "[encoded data removed]",
      "text/plain": [
       "<Figure size 640x480 with 1 Axes>"
      ]
     },
     "metadata": {},
     "output_type": "display_data"
    }
   ],
   "source": [
    "# Account balance distribution\n",
    "sns.boxplot(x='bal', data=df_clean)\n",
    "plt.title('Account Balance Distribution')\n",
    "plt.show()"
   ]
  },
  {
   "cell_type": "markdown",
   "id": "1f7f98f6-5b4a-4da4-8fbf-7696dd280a5f",
   "metadata": {},
   "source": [
    "# Completion rate updated\n"
   ]
  },
  {
   "cell_type": "code",
   "execution_count": 343,
   "id": "8e6d947a-c285-439b-b797-d773cbab4ecb",
   "metadata": {},
   "outputs": [
    {
     "data": {
      "text/plain": [
       "26961"
      ]
     },
     "execution_count": 343,
     "metadata": {},
     "output_type": "execute_result"
    }
   ],
   "source": [
    "df_clean[df_clean['variation'] == 'Test'].shape[0]"
   ]
  },
  {
   "cell_type": "code",
   "execution_count": 345,
   "id": "3317ef71-6ca2-4dd5-9849-43ed3c581546",
   "metadata": {},
   "outputs": [
    {
     "data": {
      "text/plain": [
       "23526"
      ]
     },
     "execution_count": 345,
     "metadata": {},
     "output_type": "execute_result"
    }
   ],
   "source": [
    "df_clean[df_clean['variation'] == 'Control'].shape[0]"
   ]
  },
  {
   "cell_type": "code",
   "execution_count": 347,
   "id": "aac16fa5-486c-44b6-805f-1475e580fa25",
   "metadata": {},
   "outputs": [],
   "source": [
    "test_group = df_clean[df_clean['variation'] == 'Test']\n",
    "control_group = df_clean[df_clean['variation'] == 'Control']"
   ]
  },
  {
   "cell_type": "code",
   "execution_count": 349,
   "id": "c8347a31-b882-49c1-986f-768efdc5543a",
   "metadata": {},
   "outputs": [
    {
     "data": {
      "text/plain": [
       "16102"
      ]
     },
     "execution_count": 349,
     "metadata": {},
     "output_type": "execute_result"
    }
   ],
   "source": [
    "test_completion = test_group[test_group['process_step'] == 'confirm'].shape[0]\n",
    "test_completion"
   ]
  },
  {
   "cell_type": "code",
   "execution_count": 351,
   "id": "9f4fcfcd-77f8-45d7-b537-1e81724afdde",
   "metadata": {},
   "outputs": [
    {
     "data": {
      "text/plain": [
       "12027"
      ]
     },
     "execution_count": 351,
     "metadata": {},
     "output_type": "execute_result"
    }
   ],
   "source": [
    "control_completion = control_group[control_group['process_step'] == 'confirm'].shape[0]\n",
    "control_completion "
   ]
  },
  {
   "cell_type": "code",
   "execution_count": 353,
   "id": "7b1f920b-3166-4f99-a907-aff8663044cf",
   "metadata": {},
   "outputs": [
    {
     "name": "stdout",
     "output_type": "stream",
     "text": [
      "Test Group Completion Rate: 0.60\n",
      "Control Group Completion Rate: 0.51\n"
     ]
    }
   ],
   "source": [
    "# Calculate completion rate for the Test group\n",
    "test_completion = test_group[test_group['process_step'] == 'confirm'].shape[0] / test_group.shape[0]\n",
    "\n",
    "# Calculate completion rate for the Control group\n",
    "control_completion = control_group[control_group['process_step'] == 'confirm'].shape[0] / control_group.shape[0]\n",
    "\n",
    "print(f'Test Group Completion Rate: {test_completion:.2f}')\n",
    "print(f'Control Group Completion Rate: {control_completion:.2f}')\n"
   ]
  },
  {
   "cell_type": "code",
   "execution_count": 478,
   "id": "ff2f1c5e-dbc1-4ea4-9ac0-0c0e4a85757e",
   "metadata": {},
   "outputs": [
    {
     "data": {
      "image/png": "[encoded data removed]",
      "text/plain": [
       "<Figure size 600x400 with 1 Axes>"
      ]
     },
     "metadata": {},
     "output_type": "display_data"
    }
   ],
   "source": [
    "completion_data = {\n",
    "    'Group': ['Test Group', 'Control Group'],\n",
    "    'Completion Rate': [test_completion, control_completion]\n",
    "}\n",
    "\n",
    "completion_df = pd.DataFrame(completion_data)\n",
    "plt.figure(figsize=(6, 4))\n",
    "sns.barplot(x='Group', y='Completion Rate', data=completion_df, hue='Group', palette='viridis', width=0.5)\n",
    "\n",
    "# Add titles and labels\n",
    "plt.title('Completion Rate Comparison', fontsize=16)\n",
    "plt.ylabel('Completion Rate', fontsize=14)\n",
    "#plt.xlabel('Group', fontsize=14)\n",
    "plt.ylim(0, 1)  # Set y-axis to range from 0 to 1 for better visualization\n",
    "\n",
    "\n",
    "\n",
    "plt.savefig('completion_rate_comparison_updated.png', format='png', dpi=300, bbox_inches='tight')\n",
    "# Show the plot\n",
    "plt.show()"
   ]
  },
  {
   "cell_type": "code",
   "execution_count": 357,
   "id": "17e5f893-46be-46da-9b5a-d1b5e835379d",
   "metadata": {},
   "outputs": [
    {
     "name": "stdout",
     "output_type": "stream",
     "text": [
      "Completion Rate Difference: 0.09\n"
     ]
    }
   ],
   "source": [
    "completion_rate_diff = test_completion - control_completion\n",
    "print(f'Completion Rate Difference: {completion_rate_diff:.2f}')"
   ]
  },
  {
   "cell_type": "code",
   "execution_count": 359,
   "id": "6d9aeba3-7f65-41bb-b3b4-2fe531f44e28",
   "metadata": {},
   "outputs": [
    {
     "name": "stdout",
     "output_type": "stream",
     "text": [
      "Z-statistic: 19.41, P-value: 0.00\n"
     ]
    }
   ],
   "source": [
    "from statsmodels.stats.proportion import proportions_ztest\n",
    "\n",
    "# Set up data for hypothesis testing\n",
    "successes = [test_group[test_group['process_step'] == 'confirm'].shape[0], \n",
    "             control_group[control_group['process_step'] == 'confirm'].shape[0]]\n",
    "totals = [test_group.shape[0], control_group.shape[0]]\n",
    "\n",
    "# Perform Z-test\n",
    "stat, p_value = proportions_ztest(successes, totals)\n",
    "print(f'Z-statistic: {stat:.2f}, P-value: {p_value:.2f}')"
   ]
  },
  {
   "cell_type": "markdown",
   "id": "1700920a-10d5-46cd-a1b5-dfc777a9c2c9",
   "metadata": {},
   "source": [
    "If the p-value is less than your chosen significance level (typically 0.05), you reject the null hypothesis and conclude that the difference in completion rates is statistically significant.\n",
    "If the p-value is greater than 0.05, you fail to reject the null hypothesis, meaning the difference is not statistically significant."
   ]
  },
  {
   "cell_type": "code",
   "execution_count": 362,
   "id": "7c3e4493-e44c-4be0-8d3c-8cdb4b29477c",
   "metadata": {},
   "outputs": [],
   "source": [
    "####"
   ]
  },
  {
   "cell_type": "code",
   "execution_count": 364,
   "id": "fdbb1927-2833-4e4c-b865-27517772520d",
   "metadata": {},
   "outputs": [
    {
     "name": "stdout",
     "output_type": "stream",
     "text": [
      "CSV file created successfully: 'completion_rate_analysis.csv'\n"
     ]
    }
   ],
   "source": [
    "results = {\n",
    "    'Group': ['Test Group', 'Control Group'],\n",
    "    'Completion Rate': [test_completion, control_completion],\n",
    "    'Completion Rate Difference': [completion_rate_diff, None],  # NaN for Control Group as it's the baseline\n",
    "    'Z-Statistic': [stat, None],  # Z-Statistic applies to test group, leave None for control\n",
    "    'P-Value': [p_value, None]    # P-Value applies to test group, leave None for control\n",
    "}\n",
    "\n",
    "# Create a DataFrame\n",
    "df_results = pd.DataFrame(results)\n",
    "\n",
    "# Save the DataFrame to a CSV file\n",
    "df_results.to_csv('completion_rate_analysis.csv', index=False)\n",
    "\n",
    "print(\"CSV file created successfully: 'completion_rate_analysis.csv'\")"
   ]
  },
  {
   "cell_type": "code",
   "execution_count": null,
   "id": "7721f146-541d-4cba-abb4-740153a47acb",
   "metadata": {},
   "outputs": [],
   "source": []
  },
  {
   "cell_type": "code",
   "execution_count": 367,
   "id": "a6b70e21-89b4-4da2-93fb-af6f9fc10ff9",
   "metadata": {},
   "outputs": [],
   "source": [
    "######time spent on each step"
   ]
  },
  {
   "cell_type": "code",
   "execution_count": 369,
   "id": "4df6b109-2dd7-41ff-8b59-4adcb8e7dfcb",
   "metadata": {},
   "outputs": [
    {
     "name": "stdout",
     "output_type": "stream",
     "text": [
      "process_step\n",
      "confirm     654.222930\n",
      "start       705.300000\n",
      "step_1      353.444444\n",
      "step_2      571.200000\n",
      "step_3     1832.000000\n",
      "Name: time_spent, dtype: float64\n"
     ]
    }
   ],
   "source": [
    "# Convert 'date_time' to datetime format\n",
    "df_clean['date_time'] = pd.to_datetime(df_clean['date_time'], errors='coerce')\n",
    "#Sort the data by 'visit_id' and 'date_time' to ensure correct time sequence\n",
    "df_clean = df_clean.sort_values(by=['visit_id', 'date_time'])\n",
    "\n",
    "\n",
    "df_clean['time_spent'] = df_clean.groupby('visit_id')['date_time'].diff().dt.total_seconds()\n",
    "avg_time_per_step = df_clean.groupby('process_step')['time_spent'].mean()\n",
    "\n",
    "print(avg_time_per_step)"
   ]
  },
  {
   "cell_type": "code",
   "execution_count": 371,
   "id": "50419386-003e-42a4-a21e-1746bca8adef",
   "metadata": {},
   "outputs": [
    {
     "data": {
      "image/png": "[encoded data removed]",
      "text/plain": [
       "<Figure size 1000x600 with 1 Axes>"
      ]
     },
     "metadata": {},
     "output_type": "display_data"
    }
   ],
   "source": [
    "plt.figure(figsize=(10, 6))  \n",
    "sns.barplot(x=avg_time_per_step.index, y=avg_time_per_step.values);\n",
    "\n",
    "# Adding labels and title\n",
    "plt.title('Average Time Spent Per Process Step', fontsize=16);\n",
    "plt.xlabel('Process Step', fontsize=14);\n",
    "plt.ylabel('Average Time Spent (seconds)', fontsize=14);\n",
    "plt.xticks(rotation=45);\n",
    "\n",
    "plt.savefig('Average_time_spent_per_process_step.png')\n",
    "\n",
    "plt.show()"
   ]
  },
  {
   "cell_type": "markdown",
   "id": "1acc510c-6b3c-4de5-9b76-622fbd39e5b7",
   "metadata": {},
   "source": [
    "Hypotheses:\n",
    "Null Hypothesis (H₀): There is no difference in completion rates between the Test and Control groups. (i.e., the completion rate in the Test group is equal to the Control group)\n",
    "\n",
    "Alternative Hypothesis (H₁): There is a significant difference in completion rates between the Test and Control groups. (i.e., the completion rate in the Test group is higher than the Control group)\n",
    "\n",
    "If the p-value is less than 0.05, we reject the null hypothesis, meaning there is a statistically significant difference between the completion rates of the Test and Control groups.\n",
    "If the p-value is greater than 0.05, we fail to reject the null hypothesis, meaning there is no statistically significant difference."
   ]
  },
  {
   "cell_type": "code",
   "execution_count": 374,
   "id": "89c6b94d-6526-4581-ab19-c636d349f82f",
   "metadata": {},
   "outputs": [
    {
     "name": "stdout",
     "output_type": "stream",
     "text": [
      "                   visitor_id process_step time_diff\n",
      "76879   612065484_94198474375      confirm       NaT\n",
      "251784  754122351_18568832435      confirm       NaT\n",
      "148160  676020267_36602664238        start       NaT\n",
      "137001  611052344_43146965242       step_3       NaT\n",
      "255010  194422203_56127484794      confirm       NaT\n"
     ]
    }
   ],
   "source": [
    "# Convert 'date_time' to datetime format if not already done\n",
    "df_clean['date_time'] = pd.to_datetime(df_clean['date_time'])\n",
    "\n",
    "# Calculate time difference between consecutive steps for each user\n",
    "df_clean['time_diff'] = df_clean.groupby('visitor_id')['date_time'].diff()\n",
    "\n",
    "# Inspect the results\n",
    "print(df_clean[['visitor_id', 'process_step', 'time_diff']].head())\n"
   ]
  },
  {
   "cell_type": "code",
   "execution_count": 376,
   "id": "3e5b7186-e961-49ec-b4b5-b36b6feb544b",
   "metadata": {},
   "outputs": [
    {
     "name": "stdout",
     "output_type": "stream",
     "text": [
      "Average Time Spent (Test Group):\n",
      "process_step\n",
      "confirm      1 days 01:10:55.821428571\n",
      "start     -13 days +17:15:39.305555556\n",
      "step_1          0 days 01:46:08.150000\n",
      "step_2     -3 days +13:33:56.714285715\n",
      "step_3     -9 days +13:19:12.428571429\n",
      "Name: time_diff, dtype: timedelta64[ns]\n",
      "Average Time Spent (Control Group):\n",
      "process_step\n",
      "confirm      1 days 01:10:55.821428571\n",
      "start     -13 days +17:15:39.305555556\n",
      "step_1          0 days 01:46:08.150000\n",
      "step_2     -3 days +13:33:56.714285715\n",
      "step_3     -9 days +13:19:12.428571429\n",
      "Name: time_diff, dtype: timedelta64[ns]\n"
     ]
    }
   ],
   "source": [
    "# Calculate average time spent on each step for both groups\n",
    "avg_time_per_step_test = df_clean.groupby('process_step')['time_diff'].mean()\n",
    "avg_time_per_step_control = df_clean.groupby('process_step')['time_diff'].mean()\n",
    "\n",
    "print(f'Average Time Spent (Test Group):\\n{avg_time_per_step_test}')\n",
    "print(f'Average Time Spent (Control Group):\\n{avg_time_per_step_control}')\n"
   ]
  },
  {
   "cell_type": "code",
   "execution_count": 485,
   "id": "a44641f1-85d6-4542-8fa6-9510b5dcd31a",
   "metadata": {},
   "outputs": [
    {
     "data": {
      "image/png": "[encoded data removed]",
      "text/plain": [
       "<Figure size 640x480 with 1 Axes>"
      ]
     },
     "metadata": {},
     "output_type": "display_data"
    },
    {
     "data": {
      "image/png": "[encoded data removed]",
      "text/plain": [
       "<Figure size 640x480 with 1 Axes>"
      ]
     },
     "metadata": {},
     "output_type": "display_data"
    }
   ],
   "source": [
    "# Steps distribution\n",
    "sns.countplot(x='process_step', data=df_clean)\n",
    "plt.title('Distribution of Process Steps')\n",
    "plt.show()\n",
    "\n",
    "# Time spent per step (if available)\n",
    "# Calculate time difference between consecutive steps\n",
    "df_clean['time_spent'] = df_clean.groupby('visit_id')['date_time'].diff()\n",
    "\n",
    "# Visualize time spent per step\n",
    "sns.boxplot(x='process_step', y='time_spent', data=df_clean)\n",
    "plt.title('Time Spent on Each Step')\n",
    "plt.show()"
   ]
  },
  {
   "cell_type": "markdown",
   "id": "fe102902-ec2e-4a3c-b2d4-0444a2aec724",
   "metadata": {},
   "source": [
    "# Additional Analysis: Cost-Effectiveness Threshold updated"
   ]
  },
  {
   "cell_type": "code",
   "execution_count": 381,
   "id": "f1c3deb4-55e3-4ae1-a5d4-e7a38f529ed7",
   "metadata": {},
   "outputs": [
    {
     "name": "stdout",
     "output_type": "stream",
     "text": [
      "Completion Rate Increase: 16.82%\n",
      "The new design meets the cost-effectiveness threshold.\n"
     ]
    }
   ],
   "source": [
    "# Calculate the percentage increase in completion rate\n",
    "completion_rate_increase = (test_completion - control_completion) / control_completion * 100\n",
    "print(f'Completion Rate Increase: {completion_rate_increase:.2f}%')\n",
    "\n",
    "# Check if the increase is greater than or equal to 5%\n",
    "if completion_rate_increase >= 5:\n",
    "    print(\"The new design meets the cost-effectiveness threshold.\")\n",
    "else:\n",
    "    print(\"The new design does not meet the cost-effectiveness threshold.\")"
   ]
  },
  {
   "cell_type": "code",
   "execution_count": 383,
   "id": "69d65d44-cc69-4c9c-80cf-0f7ee1699cb6",
   "metadata": {},
   "outputs": [
    {
     "data": {
      "image/png": "[encoded data removed]",
      "text/plain": [
       "<Figure size 800x600 with 1 Axes>"
      ]
     },
     "metadata": {},
     "output_type": "display_data"
    }
   ],
   "source": [
    "# Define the data for plotting\n",
    "completion_rates = [control_completion, test_completion]\n",
    "groups = ['Control', 'Test']\n",
    "colors = ['lightblue', 'lightgreen']\n",
    "\n",
    "# Plotting the bar chart\n",
    "plt.figure(figsize=(8, 6))\n",
    "bars = plt.bar(groups, completion_rates, color=colors)\n",
    "\n",
    "# Add percentage increase annotation (using completion_rate_increase)\n",
    "plt.axhline(y=control_completion + (completion_rate_increase / 100 * control_completion), \n",
    "            color='orange', linestyle='--', label=f'Percentage Increase ({completion_rate_increase:.2f}%)')\n",
    "\n",
    "# Add labels and title\n",
    "plt.title('Completion Rates for Test vs Control Group', fontsize=16)\n",
    "plt.xlabel('Group', fontsize=14)\n",
    "plt.ylabel('Completion Rate', fontsize=14)\n",
    "\n",
    "\n",
    "# Add a horizontal line to indicate the 5% threshold\n",
    "plt.axhline(y=control_completion + (0.05 * control_completion), color='red', linestyle='-.', label='5% Threshold')\n",
    "\n",
    "# Add legend\n",
    "plt.legend()\n",
    "\n",
    "# Show the plot\n",
    "plt.tight_layout()\n",
    "plt.savefig('Completion_rate_error_rate_updated.png')  \n",
    "plt.show() "
   ]
  },
  {
   "cell_type": "markdown",
   "id": "39d9c312-ddc6-49fd-905e-7efd979b349f",
   "metadata": {},
   "source": [
    "# Erorr rate\n"
   ]
  },
  {
   "cell_type": "code",
   "execution_count": 490,
   "id": "8f40a4a6-b68a-4f5b-b0c3-a1d233b5037c",
   "metadata": {},
   "outputs": [],
   "source": [
    "# Detect backward steps\n",
    "df_clean['previous_step'] = df_clean.groupby('visit_id')['process_step'].shift(1)\n",
    "df_clean['backward_step'] = df_clean['process_step'].astype(str) < df_clean['previous_step'].astype(str)\n"
   ]
  },
  {
   "cell_type": "code",
   "execution_count": 492,
   "id": "01823fe1-bdd1-4e18-95b5-4dd5f9d758c8",
   "metadata": {},
   "outputs": [],
   "source": [
    "# Calculate error rate\n",
    "error_rate_test = df_clean[(df_clean['variation'] == 'Test') & (df_clean['backward_step'] == True)].shape[0] / df_clean[df_clean['variation'] == 'Test'].shape[0]\n",
    "error_rate_control = df_clean[(df_clean['variation'] == 'Control') & (df_clean['backward_step'] == True)].shape[0] / df_clean[df_clean['variation'] == 'Control'].shape[0]"
   ]
  },
  {
   "cell_type": "code",
   "execution_count": 494,
   "id": "41356fe2-4531-4763-8fd8-db8dcf1cd1e3",
   "metadata": {},
   "outputs": [
    {
     "name": "stdout",
     "output_type": "stream",
     "text": [
      "Error Rate (Test): 0.59\n",
      "Error Rate (Control): 0.51\n"
     ]
    }
   ],
   "source": [
    "print(f'Error Rate (Test): {error_rate_test:.2f}')\n",
    "print(f'Error Rate (Control): {error_rate_control:.2f}')"
   ]
  },
  {
   "cell_type": "markdown",
   "id": "2cbb95b9-28b7-4761-a4cd-c4a512e94c4b",
   "metadata": {},
   "source": [
    " # error rate with duplicates\n"
   ]
  },
  {
   "cell_type": "code",
   "execution_count": 499,
   "id": "c2a8928b-e124-4b59-8b76-616403e4251d",
   "metadata": {},
   "outputs": [],
   "source": [
    "# Drop duplicates based on visit_id and process_step (keep the first occurrence)\n",
    "df_clean = df_clean.drop_duplicates(subset=['visit_id', 'process_step'], keep='first')\n"
   ]
  },
  {
   "cell_type": "code",
   "execution_count": 501,
   "id": "320387c7-e414-48a4-9dcd-ab8490d5bdc9",
   "metadata": {},
   "outputs": [],
   "source": [
    "df_clean['previous_step'] = df_clean.groupby('visit_id')['process_step'].shift(1)\n",
    "df_clean['backward_step'] = df_clean['process_step'].astype(str) < df_clean['previous_step'].astype(str)\n"
   ]
  },
  {
   "cell_type": "code",
   "execution_count": 503,
   "id": "d4aee602-84dc-4cd4-bade-c53d3cdfca5a",
   "metadata": {},
   "outputs": [
    {
     "name": "stdout",
     "output_type": "stream",
     "text": [
      "Error Rate (Test): 0.60\n",
      "Error Rate (Control): 0.51\n"
     ]
    }
   ],
   "source": [
    "# Error rate calculation for Test and Control groups\n",
    "error_rate_test = df_clean[(df_clean['variation'] == 'Test') & (df_clean['backward_step'] == True)].shape[0] / df_clean[df_clean['variation'] == 'Test'].shape[0]\n",
    "error_rate_control = df_clean[(df_clean['variation'] == 'Control') & (df_clean['backward_step'] == True)].shape[0] / df_clean[df_clean['variation'] == 'Control'].shape[0]\n",
    "\n",
    "print(f'Error Rate (Test): {error_rate_test:.2f}')\n",
    "print(f'Error Rate (Control): {error_rate_control:.2f}')\n"
   ]
  },
  {
   "cell_type": "markdown",
   "id": "00e47bc7-1f5e-4d55-bc5d-6b43a57ce185",
   "metadata": {},
   "source": [
    "Treat duplicate steps within a session as non-errors, and remove them before calculating backward steps. This will allow you to focus on true backward movements, which are more indicative of issues in the user experience, and will make your error rate calculation more meaningful and insightful."
   ]
  },
  {
   "cell_type": "code",
   "execution_count": 388,
   "id": "1ccf7b99-5c5c-4a16-84c7-3aeb8b2c52a0",
   "metadata": {},
   "outputs": [],
   "source": [
    "#######"
   ]
  },
  {
   "cell_type": "markdown",
   "id": "1cf5b7e2-c3d6-49aa-a48a-6a15ba0a509e",
   "metadata": {},
   "source": [
    "The difference in completion rates can be visually seen as the height of the bars in the bar plot.\n",
    "The z-statistic and p-value help to quantify and validate whether this difference is statistically significant.\n",
    "If the p-value is below your threshold (e.g., 0.05), it indicates that the observed difference in completion rates between the Test and Control groups is statistically significant.\n"
   ]
  },
  {
   "cell_type": "markdown",
   "id": "912c613a-0a91-4063-bf82-a54dd8fd3fff",
   "metadata": {},
   "source": [
    "This test doesn't assume the data follows a normal distribution. Instead, it assumes that if you have a sufficiently large sample size, the distribution of the sample proportions will be approximately normal due to the Central Limit Theorem.\n",
    "The test is specifically designed for binary outcomes (success/failure, yes/no), which applies well to your completion rate analysis.\n",
    "\n",
    "Correlation analysis is typically used to assess the relationship between two continuous variables. It doesn't apply to your current binary outcome task regarding completion rates.\n",
    "\n",
    "These tools are more applicable when dealing with continuous data and when you need to check whether the data meets the assumptions for other parametric tests like t-tests."
   ]
  },
  {
   "cell_type": "markdown",
   "id": "94354f7f-a939-46c4-b558-0d10d201e704",
   "metadata": {},
   "source": [
    "If the percentage increase is greater than or equal to 5%, the new design can be considered cost-effective, justifying its introduction.\n",
    "\n",
    "\n",
    "If the increase is below 5%, the design may not be considered cost-effective.\n",
    "\n",
    "Once the completion rates are calculated, the percentage increase is calculated by comparing the test group’s completion rate to the control group’s rate.  the percentage increase is 10.08%, meaning that the completion rate in the test group is 10.08% higher than in the control group.\n",
    "\n",
    "The code compares the percentage increase with the threshold:\n",
    "\n",
    "If the percentage increase is greater than or equal to 5%, the message \"The new design meets the cost-effectiveness threshold.\" is printed.\n",
    "If the percentage increase is less than 5%, the message \"The new design does not meet the cost-effectiveness threshold.\" is printed.\n",
    "\n",
    "\n",
    "Summary:\n",
    "Percentage Increase in Completion Rate: 10.08% — This shows that the new design outperforms the old design by 10.08% in terms of successful completions.\n",
    "Cost-Effectiveness Threshold: 5% — Since the percentage increase is above 5%, the new design meets the threshold for being cost-effective.\n"
   ]
  },
  {
   "cell_type": "markdown",
   "id": "13ff771c-a977-4293-9336-757266b682d6",
   "metadata": {},
   "source": [
    "# Gender\n"
   ]
  },
  {
   "cell_type": "markdown",
   "id": "f2f4cce2-f533-42b6-95cc-47dc4e7e61a1",
   "metadata": {},
   "source": [
    "Null Hypothesis (H₀): There is no difference in the completion rate between genders in the Test and Control groups.\n",
    "\n",
    "Alternative Hypothesis (H₁): There is a significant difference in completion rates between genders in either the Test or Control group."
   ]
  },
  {
   "cell_type": "code",
   "execution_count": 395,
   "id": "7c14ac85-1be1-463d-82dc-5b363077df13",
   "metadata": {},
   "outputs": [
    {
     "name": "stdout",
     "output_type": "stream",
     "text": [
      "Z-statistic for gender difference: 19.3894\n",
      "P-value for gender difference: 0.0000\n",
      "There is a significant gender difference in completion rates.\n"
     ]
    }
   ],
   "source": [
    "\n",
    "# Calculate the completion rate for each gender in both groups (Test and Control)\n",
    "completion_gender_test = df_clean[(df_clean['variation'] == 'Test') & (df_clean['process_step'] == 'confirm')].groupby('gendr')['visitor_id'].nunique()\n",
    "completion_gender_control = df_clean[(df_clean['variation'] == 'Control') & (df_clean['process_step'] == 'confirm')].groupby('gendr')['visitor_id'].nunique()\n",
    "\n",
    "# Perform z-test for each gender group comparison\n",
    "count_gender_test = completion_gender_test.values\n",
    "total_gender_test = df_clean[(df_clean['variation'] == 'Test')].groupby('gendr')['visitor_id'].nunique().values\n",
    "\n",
    "count_gender_control = completion_gender_control.values\n",
    "total_gender_control = df_clean[(df_clean['variation'] == 'Control')].groupby('gendr')['visitor_id'].nunique().values\n",
    "\n",
    "# Perform z-test for gender\n",
    "z_stat_gender, p_value_gender = proportions_ztest([count_gender_test.sum(), count_gender_control.sum()], [total_gender_test.sum(), total_gender_control.sum()], alternative='two-sided')\n",
    "\n",
    "print(f\"Z-statistic for gender difference: {z_stat_gender:.4f}\")\n",
    "print(f\"P-value for gender difference: {p_value_gender:.4f}\")\n",
    "\n",
    "if p_value_gender < 0.05:\n",
    "    print(\"There is a significant gender difference in completion rates.\")\n",
    "else:\n",
    "    print(\"There is no significant gender difference in completion rates.\")\n"
   ]
  },
  {
   "cell_type": "code",
   "execution_count": 397,
   "id": "c29f4404-06eb-414a-8dce-8b492861d9f6",
   "metadata": {},
   "outputs": [
    {
     "data": {
      "text/plain": [
       "(gendr\n",
       " F    4981\n",
       " M    5476\n",
       " U    5624\n",
       " Name: visitor_id, dtype: int64,\n",
       " gendr\n",
       " F    3678\n",
       " M    4053\n",
       " U    4282\n",
       " Name: visitor_id, dtype: int64)"
      ]
     },
     "execution_count": 397,
     "metadata": {},
     "output_type": "execute_result"
    }
   ],
   "source": [
    "completion_gender_test , completion_gender_control"
   ]
  },
  {
   "cell_type": "code",
   "execution_count": 399,
   "id": "cd6c34bc-f658-4a33-8a72-bfba2d72aa65",
   "metadata": {},
   "outputs": [
    {
     "name": "stdout",
     "output_type": "stream",
     "text": [
      "Contingency Table:\n",
      "                 Not Completed  Completed\n",
      "variation gendr                          \n",
      "Control   F               3864       3678\n",
      "          M               3914       4056\n",
      "          U               3721       4293\n",
      "Test      F               3732       4984\n",
      "          M               3501       5476\n",
      "          U               3624       5642\n",
      "          X                  2          0\n",
      "Chi-Square Statistic: 450.01\n",
      "P-value: 0.00\n",
      "Degrees of Freedom: 6\n",
      "Expected Frequencies: \n",
      "[[3.33994961e+03 4.20205039e+03]\n",
      " [3.52948799e+03 4.44051201e+03]\n",
      " [3.54897324e+03 4.46502676e+03]\n",
      " [3.85985161e+03 4.85614839e+03]\n",
      " [3.97543459e+03 5.00156541e+03]\n",
      " [4.10341728e+03 5.16258272e+03]\n",
      " [8.85693347e-01 1.11430665e+00]]\n",
      "Reject the null hypothesis. There is a significant difference in completion rates between genders.\n"
     ]
    }
   ],
   "source": [
    "# chi test\n",
    "import pandas as pd\n",
    "import scipy.stats as stats\n",
    "\n",
    "# Create the contingency table for gender vs completion status in both Test and Control groups\n",
    "contingency_table = pd.crosstab(\n",
    "    [df_clean['variation'], df_clean['gendr']],  # Rows: variation (Test/Control), gender\n",
    "    df_clean['process_step'] == 'confirm'  # Columns: completion status (True/False)\n",
    ")\n",
    "\n",
    "# Rename columns for clarity\n",
    "contingency_table.columns = ['Not Completed', 'Completed']\n",
    "\n",
    "# Display the contingency table\n",
    "print(\"Contingency Table:\")\n",
    "print(contingency_table)\n",
    "\n",
    "# Perform Chi-Square Test for Independence\n",
    "chi2_stat, p_value, dof, expected = stats.chi2_contingency(contingency_table)\n",
    "\n",
    "# Display the results\n",
    "print(f\"Chi-Square Statistic: {chi2_stat:.2f}\")\n",
    "print(f\"P-value: {p_value:.2f}\")\n",
    "print(f\"Degrees of Freedom: {dof}\")\n",
    "print(f\"Expected Frequencies: \\n{expected}\")\n",
    "\n",
    "# Interpret the result\n",
    "alpha = 0.05\n",
    "if p_value < alpha:\n",
    "    print(\"Reject the null hypothesis. There is a significant difference in completion rates between genders.\")\n",
    "else:\n",
    "    print(\"Fail to reject the null hypothesis. There is no significant difference in completion rates between genders.\")\n"
   ]
  },
  {
   "cell_type": "code",
   "execution_count": 401,
   "id": "117d0604-0026-4998-a379-9c06cd70f909",
   "metadata": {},
   "outputs": [
    {
     "data": {
      "image/png": "[encoded data removed]",
      "text/plain": [
       "<Figure size 1000x600 with 1 Axes>"
      ]
     },
     "metadata": {},
     "output_type": "display_data"
    }
   ],
   "source": [
    "contingency_table = pd.crosstab(\n",
    "    [df_clean['variation'], df_clean['gendr']],  # Rows: variation (Test/Control), gender\n",
    "    df_clean['process_step'] == 'confirm'  # Columns: completion status (True/False)\n",
    ")\n",
    "\n",
    "# Rename columns for clarity\n",
    "contingency_table.columns = ['Not Completed', 'Completed']\n",
    "\n",
    "# Plot the stacked bar chart\n",
    "contingency_table.plot(kind='bar', stacked=True, figsize=(10, 6), color=['red', 'green'])\n",
    "\n",
    "# Add titles and labels\n",
    "plt.title('Completion Status by Gender and Variation', fontsize=16)\n",
    "plt.xlabel('Group (Test/Control) and Gender', fontsize=14)\n",
    "plt.ylabel('Number of Visitors', fontsize=14)\n",
    "plt.xticks(rotation=45)\n",
    "\n",
    "# Add a legend\n",
    "plt.legend(title=\"Completion Status\", labels=['Not Completed', 'Completed'])\n",
    "\n",
    "# Show the plot\n",
    "plt.tight_layout()\n",
    "plt.show()"
   ]
  },
  {
   "cell_type": "markdown",
   "id": "cf911948-2f00-4fb8-8ecc-f6856e6bca99",
   "metadata": {},
   "source": [
    "# gender test with just M and F"
   ]
  },
  {
   "cell_type": "code",
   "execution_count": 404,
   "id": "cff83f3b-b982-4c4a-88de-fff8574ec6a8",
   "metadata": {},
   "outputs": [
    {
     "data": {
      "text/plain": [
       "array(['M', 'F', 'U', 'X'], dtype=object)"
      ]
     },
     "execution_count": 404,
     "metadata": {},
     "output_type": "execute_result"
    }
   ],
   "source": [
    "df_clean['gendr'].unique()"
   ]
  },
  {
   "cell_type": "code",
   "execution_count": 406,
   "id": "cfd4b4d3-a81a-4075-8e8b-0da30ed6c19c",
   "metadata": {},
   "outputs": [
    {
     "data": {
      "text/plain": [
       "array(['M', 'F'], dtype=object)"
      ]
     },
     "execution_count": 406,
     "metadata": {},
     "output_type": "execute_result"
    }
   ],
   "source": [
    "#cleaning gender column removing unknown, other\n",
    "df_gender_clean = df_clean[df_clean['gendr'].isin(['M', 'F'])]\n",
    "df_gender_clean['gendr'].unique()"
   ]
  },
  {
   "cell_type": "code",
   "execution_count": 408,
   "id": "dee8103e-7809-4dcb-9d0d-213d10f081bc",
   "metadata": {},
   "outputs": [
    {
     "name": "stdout",
     "output_type": "stream",
     "text": [
      "Z-statistic for gender difference: 16.92\n",
      "P-value for gender difference: 0.00\n",
      "There is a significant gender difference in completion rates.\n"
     ]
    },
    {
     "name": "stderr",
     "output_type": "stream",
     "text": [
      "/var/folders/87/8lkk6ykj1_74chh73s5bkg8r0000gn/T/ipykernel_63108/3049224880.py:1: UserWarning: Boolean Series key will be reindexed to match DataFrame index.\n",
      "  completion_gender_test = df_clean[(df_clean['variation'] == 'Test') & (df_gender_clean['process_step'] == 'confirm')].groupby('gendr')['visitor_id'].nunique()\n",
      "/var/folders/87/8lkk6ykj1_74chh73s5bkg8r0000gn/T/ipykernel_63108/3049224880.py:2: UserWarning: Boolean Series key will be reindexed to match DataFrame index.\n",
      "  completion_gender_control = df_clean[(df_clean['variation'] == 'Control') & (df_gender_clean['process_step'] == 'confirm')].groupby('gendr')['visitor_id'].nunique()\n"
     ]
    }
   ],
   "source": [
    "completion_gender_test = df_clean[(df_clean['variation'] == 'Test') & (df_gender_clean['process_step'] == 'confirm')].groupby('gendr')['visitor_id'].nunique()\n",
    "completion_gender_control = df_clean[(df_clean['variation'] == 'Control') & (df_gender_clean['process_step'] == 'confirm')].groupby('gendr')['visitor_id'].nunique()\n",
    "\n",
    "# Perform z-test for each gender group comparison\n",
    "count_gender_test = completion_gender_test.values\n",
    "total_gender_test = df_gender_clean[(df_gender_clean['variation'] == 'Test')].groupby('gendr')['visitor_id'].nunique().values\n",
    "\n",
    "count_gender_control = completion_gender_control.values\n",
    "total_gender_control = df_gender_clean[(df_gender_clean['variation'] == 'Control')].groupby('gendr')['visitor_id'].nunique().values\n",
    "\n",
    "# Perform z-test for gender\n",
    "z_stat_gender, p_value_gender = proportions_ztest([count_gender_test.sum(), count_gender_control.sum()], [total_gender_test.sum(), total_gender_control.sum()], alternative='two-sided')\n",
    "\n",
    "print(f\"Z-statistic for gender difference: {z_stat_gender:.2f}\")\n",
    "print(f\"P-value for gender difference: {p_value_gender:.2f}\")\n",
    "\n",
    "if p_value_gender < 0.05:\n",
    "    print(\"There is a significant gender difference in completion rates.\")\n",
    "else:\n",
    "    print(\"There is no significant gender difference in completion rates.\")\n"
   ]
  },
  {
   "cell_type": "markdown",
   "id": "1de6c5ae-b3f5-4035-93fa-24f94a21006d",
   "metadata": {},
   "source": [
    "The Z-test is very sensitive to large sample sizes. When the sample size is large enough, even small effects can appear statistically significant, and the p-value can approach 0.\n",
    "If this difference is consistent across a large sample, the z-statistic becomes large, and the p-value becomes very small.\n",
    "\n",
    "The z-statistic of 11.7986 is very large, which indicates a very strong difference between the proportions of the two groups (Test vs. Control). Z-scores above 3 or -3 generally suggest a significant difference, and in your case, the large value means the difference is far from the null hypothesis (no difference).\n",
    "\n",
    " Even small differences, when observed in very large samples, can produce highly significant results. So, while the difference is statistically significant, it's important to assess whether the 5.95% difference in completion rates is practically meaningful in your specific context.\n",
    "\n",
    " In short: The p-value is low because the difference between the groups is substantial, the sample sizes are likely large, and the data variability is low, making the result highly statistically significant."
   ]
  },
  {
   "cell_type": "code",
   "execution_count": 411,
   "id": "61ef59af-658a-4691-8317-5e439f885cfa",
   "metadata": {},
   "outputs": [
    {
     "name": "stdout",
     "output_type": "stream",
     "text": [
      "Test Group Completion Proportions by Gender:\n",
      "gendr\n",
      "F    0.571675\n",
      "M    0.610003\n",
      "Name: visitor_id, dtype: float64\n",
      "Control Group Completion Proportions by Gender:\n",
      "gendr\n",
      "F    0.487669\n",
      "M    0.508723\n",
      "Name: visitor_id, dtype: float64\n"
     ]
    }
   ],
   "source": [
    "print(\"Test Group Completion Proportions by Gender:\")\n",
    "print(completion_gender_test / total_gender_test)\n",
    "\n",
    "print(\"Control Group Completion Proportions by Gender:\")\n",
    "print(completion_gender_control / total_gender_control)\n"
   ]
  },
  {
   "cell_type": "code",
   "execution_count": 413,
   "id": "45fefc23-0b72-4dd0-af79-128178c3852a",
   "metadata": {},
   "outputs": [
    {
     "name": "stdout",
     "output_type": "stream",
     "text": [
      "Total Visitors in Test Group by Gender:\n",
      "[8713 8977]\n",
      "Total Visitors in Control Group by Gender:\n",
      "[7542 7967]\n"
     ]
    }
   ],
   "source": [
    "print(\"Total Visitors in Test Group by Gender:\")\n",
    "print(total_gender_test)\n",
    "\n",
    "print(\"Total Visitors in Control Group by Gender:\")\n",
    "print(total_gender_control)"
   ]
  },
  {
   "cell_type": "code",
   "execution_count": 415,
   "id": "c310fa80-02ab-44b8-85ab-e3e7a7a97562",
   "metadata": {},
   "outputs": [
    {
     "name": "stdout",
     "output_type": "stream",
     "text": [
      "Difference in Proportions: gendr\n",
      "F    0.084005\n",
      "M    0.101280\n",
      "Name: visitor_id, dtype: float64\n"
     ]
    }
   ],
   "source": [
    "proportion_test = completion_gender_test / total_gender_test\n",
    "proportion_control = completion_gender_control / total_gender_control\n",
    "\n",
    "proportion_diff = proportion_test - proportion_control\n",
    "print(f\"Difference in Proportions: {proportion_diff}\")"
   ]
  },
  {
   "cell_type": "code",
   "execution_count": 417,
   "id": "c9eba0cd-783c-4c52-9733-5f94aaec9966",
   "metadata": {},
   "outputs": [
    {
     "name": "stdout",
     "output_type": "stream",
     "text": [
      "Completion rate for Test group: 0.59\n",
      "Completion rate for Control group: 0.50\n"
     ]
    }
   ],
   "source": [
    "prop_test = count_gender_test.sum() / total_gender_test.sum()\n",
    "prop_control = count_gender_control.sum() / total_gender_control.sum()\n",
    "\n",
    "print(f\"Completion rate for Test group: {prop_test:.2f}\")\n",
    "print(f\"Completion rate for Control group: {prop_control:.2f}\")\n"
   ]
  },
  {
   "cell_type": "markdown",
   "id": "acad9f0a-caa6-430c-a6be-e7ccd13760ab",
   "metadata": {},
   "source": [
    "If the p-value from the z-test is less than 0.05, it indicates that the difference between the two completion rates is statistically significant at the 5% significance level.\n",
    "\n",
    "Since the p-value from the z-test is 0.0000, it indicates that the difference in completion rates between the Test and Control groups is highly statistically significant. Even though the absolute difference in proportions (5.95%) might seem modest, with large enough sample sizes (as suggested by the z-test), even small differences can be significant. This is especially true when the sample sizes are large, as in your case, which increases the power of the test."
   ]
  },
  {
   "cell_type": "code",
   "execution_count": 420,
   "id": "4327a022-6da2-4662-8ca4-a76f86d5dce7",
   "metadata": {},
   "outputs": [
    {
     "name": "stdout",
     "output_type": "stream",
     "text": [
      "Chi-squared Statistic: 35.03\n",
      "P-value: 0.00\n",
      "Degrees of Freedom: 3\n",
      "Expected frequencies:\n",
      "[[5338.52190935 3691.54196657 3947.23981328 3969.6963108 ]\n",
      " [5121.47809065 3541.45803343 3786.76018672 3808.3036892 ]]\n",
      "There is a significant association between group (Test/Control) and gender completion rates.\n"
     ]
    }
   ],
   "source": [
    "# chi test\n",
    "\n",
    "import pandas as pd\n",
    "from scipy.stats import chi2_contingency\n",
    "\n",
    "# Create a contingency table for gender and completion rate\n",
    "# Completed (process_step = 'confirm')\n",
    "completion_test = df_gender_clean[(df_gender_clean['variation'] == 'Test') & (df_gender_clean['process_step'] == 'confirm')]\n",
    "completion_control = df_gender_clean[(df_gender_clean['variation'] == 'Control') & (df_gender_clean['process_step'] == 'confirm')]\n",
    "\n",
    "# Not completed (those who were in the group but did not reach 'confirm')\n",
    "not_completion_test = df_gender_clean[(df_gender_clean['variation'] == 'Test') & (df_gender_clean['process_step'] != 'confirm')]\n",
    "not_completion_control = df_gender_clean[(df_gender_clean['variation'] == 'Control') & (df_gender_clean['process_step'] != 'confirm')]\n",
    "\n",
    "# Create the contingency table by counting completed and not completed visitors by group and gender\n",
    "contingency_table = pd.DataFrame({\n",
    "    'Test Completed': [len(completion_test[completion_test['gendr'] == gender]) for gender in df_gender_clean['gendr'].unique()],\n",
    "    'Test Not Completed': [len(not_completion_test[not_completion_test['gendr'] == gender]) for gender in df_gender_clean['gendr'].unique()],\n",
    "    'Control Completed': [len(completion_control[completion_control['gendr'] == gender]) for gender in df_gender_clean['gendr'].unique()],\n",
    "    'Control Not Completed': [len(not_completion_control[not_completion_control['gendr'] == gender]) for gender in df_gender_clean['gendr'].unique()]\n",
    "})\n",
    "\n",
    "# Perform the chi-squared test\n",
    "chi2_stat, p_value, dof, expected = chi2_contingency(contingency_table)\n",
    "\n",
    "# Display results\n",
    "print(f\"Chi-squared Statistic: {chi2_stat:.2f}\")\n",
    "print(f\"P-value: {p_value:.2f}\")\n",
    "print(f\"Degrees of Freedom: {dof}\")\n",
    "print(f\"Expected frequencies:\\n{expected}\")\n",
    "\n",
    "# Interpretation\n",
    "if p_value < 0.05:\n",
    "    print(\"There is a significant association between group (Test/Control) and gender completion rates.\")\n",
    "else:\n",
    "    print(\"There is no significant association between group (Test/Control) and gender completion rates.\")\n",
    "\n",
    "\n"
   ]
  },
  {
   "cell_type": "markdown",
   "id": "1f4db6d9-53d9-42af-8d74-ffe1c3667085",
   "metadata": {},
   "source": [
    "A Chi-squared statistic of 50.7188 typically suggests a significant association between the variables you're testing, assuming the p-value is small (usually < 0.05). This means that gender and completion rates (Test vs. Control) are not independent of each other."
   ]
  },
  {
   "cell_type": "code",
   "execution_count": 423,
   "id": "19fac275-771c-4ff7-9407-11ada9c6de3f",
   "metadata": {},
   "outputs": [
    {
     "data": {
      "image/png": "[encoded data removed]",
      "text/plain": [
       "<Figure size 1000x600 with 1 Axes>"
      ]
     },
     "metadata": {},
     "output_type": "display_data"
    }
   ],
   "source": [
    "contingency_table = pd.crosstab(\n",
    "    [df_gender_clean['variation'], df_gender_clean['gendr']],  # Rows: variation (Test/Control), gender\n",
    "    df_gender_clean['process_step'] == 'confirm'  # Columns: completion status (True/False)\n",
    ")\n",
    "\n",
    "# columns\n",
    "contingency_table.columns = ['Not Completed', 'Completed']\n",
    "\n",
    "# Plot the stacked bar chart\n",
    "contingency_table.plot(kind='bar', stacked=True, figsize=(10, 6), color=['red', 'green'])\n",
    "\n",
    "# titles and labels\n",
    "plt.title('Completion Status by Gender and Variation', fontsize=16)\n",
    "plt.xlabel('Group (Test/Control) and Gender', fontsize=14)\n",
    "plt.ylabel('Number of Visitors', fontsize=14)\n",
    "plt.xticks(rotation=45)\n",
    "\n",
    "# Add a legend\n",
    "plt.legend(title=\"Completion Status\", labels=['Not Completed', 'Completed'])\n",
    "\n",
    "\n",
    "plt.tight_layout()\n",
    "plt.savefig('Completion_by_gender.png')\n",
    "\n",
    "plt.show()"
   ]
  },
  {
   "cell_type": "code",
   "execution_count": null,
   "id": "06f08015-0ed8-45ad-b215-aeb61a9590ab",
   "metadata": {},
   "outputs": [],
   "source": []
  },
  {
   "cell_type": "markdown",
   "id": "19ddc280-7615-442b-8c9a-bf02db10d2d5",
   "metadata": {},
   "source": [
    "# age hypothesis\n"
   ]
  },
  {
   "cell_type": "code",
   "execution_count": 427,
   "id": "2028faeb-6894-408f-a2f5-f8b81fdca7b3",
   "metadata": {},
   "outputs": [
    {
     "name": "stdout",
     "output_type": "stream",
     "text": [
      "Mean Age for Test Group: 45.99\n",
      "Mean Age for Control Group: 46.08\n",
      "T-statistic: -0.5038\n",
      "P-value: 0.6144\n"
     ]
    }
   ],
   "source": [
    "from scipy.stats import ttest_ind\n",
    "\n",
    "\n",
    "completed_process = df_clean[df_clean['process_step'] == 'confirm']\n",
    "\n",
    "# Separate users into Test and Control groups\n",
    "test_group = completed_process[completed_process['variation'] == 'Test']\n",
    "control_group = completed_process[completed_process['variation'] == 'Control']\n",
    "\n",
    "# Calculate average age for each group\n",
    "mean_age_test = test_group['clnt_age'].mean()\n",
    "mean_age_control = control_group['clnt_age'].mean()\n",
    "\n",
    "print(f\"Mean Age for Test Group: {mean_age_test:.2f}\")\n",
    "print(f\"Mean Age for Control Group: {mean_age_control:.2f}\")\n",
    "\n",
    "# Perform t-test to compare mean ages between the two groups\n",
    "t_stat, p_value = ttest_ind(test_group['clnt_age'].dropna(), control_group['clnt_age'].dropna())\n",
    "\n",
    "print(f\"T-statistic: {t_stat:.4f}\")\n",
    "print(f\"P-value: {p_value:.4f}\")"
   ]
  },
  {
   "cell_type": "code",
   "execution_count": 429,
   "id": "55016e14-8acf-4e8c-80f5-bc7f429836ef",
   "metadata": {},
   "outputs": [
    {
     "data": {
      "image/png": "[encoded data removed]",
      "text/plain": [
       "<Figure size 1000x600 with 1 Axes>"
      ]
     },
     "metadata": {},
     "output_type": "display_data"
    }
   ],
   "source": [
    "plt.figure(figsize=(10, 6))\n",
    "sns.boxplot(x='variation', y='clnt_age', data=completed_process)\n",
    "plt.title('Age Comparison between Participans who Completed UI')\n",
    "plt.xlabel('Group')\n",
    "plt.ylabel('Age')\n",
    "plt.savefig('age_comparison_between_participants_who_completed.png')\n",
    "\n",
    "plt.show()"
   ]
  },
  {
   "cell_type": "code",
   "execution_count": 431,
   "id": "d56262fb-38de-4773-b3ee-a70acbbccc79",
   "metadata": {},
   "outputs": [
    {
     "name": "stdout",
     "output_type": "stream",
     "text": [
      "Fail to reject the null hypothesis: There is no significant difference in the average age between the Test and Control groups who completed the process.\n"
     ]
    }
   ],
   "source": [
    "alpha = 0.05\n",
    "if p_value < alpha:\n",
    "    print(\"Reject the null hypothesis: There is a significant difference in the average age between the Test and Control groups who completed the process.\")\n",
    "else:\n",
    "    print(\"Fail to reject the null hypothesis: There is no significant difference in the average age between the Test and Control groups who completed the process.\")"
   ]
  },
  {
   "cell_type": "markdown",
   "id": "3c5e0cbb-806c-4752-8960-3e415f82ca83",
   "metadata": {},
   "source": [
    "# Average client"
   ]
  },
  {
   "cell_type": "code",
   "execution_count": null,
   "id": "caddc832-3477-4015-b6b1-553ce7862590",
   "metadata": {},
   "outputs": [],
   "source": []
  },
  {
   "cell_type": "code",
   "execution_count": 435,
   "id": "ab0fa2b1-7e86-4997-9b6d-a2b49151f927",
   "metadata": {},
   "outputs": [
    {
     "data": {
      "text/html": [
       "<div>\n",
       "<style scoped>\n",
       "    .dataframe tbody tr th:only-of-type {\n",
       "        vertical-align: middle;\n",
       "    }\n",
       "\n",
       "    .dataframe tbody tr th {\n",
       "        vertical-align: top;\n",
       "    }\n",
       "\n",
       "    .dataframe thead th {\n",
       "        text-align: right;\n",
       "    }\n",
       "</style>\n",
       "<table border=\"1\" class=\"dataframe\">\n",
       "  <thead>\n",
       "    <tr style=\"text-align: right;\">\n",
       "      <th></th>\n",
       "      <th>Attribute</th>\n",
       "      <th>Average Value</th>\n",
       "    </tr>\n",
       "  </thead>\n",
       "  <tbody>\n",
       "    <tr>\n",
       "      <th>0</th>\n",
       "      <td>clnt_age</td>\n",
       "      <td>47.32</td>\n",
       "    </tr>\n",
       "    <tr>\n",
       "      <th>1</th>\n",
       "      <td>bal</td>\n",
       "      <td>149516.79</td>\n",
       "    </tr>\n",
       "    <tr>\n",
       "      <th>2</th>\n",
       "      <td>logons_6_mnth</td>\n",
       "      <td>6.13</td>\n",
       "    </tr>\n",
       "    <tr>\n",
       "      <th>3</th>\n",
       "      <td>clnt_tenure_yr</td>\n",
       "      <td>12.03</td>\n",
       "    </tr>\n",
       "    <tr>\n",
       "      <th>4</th>\n",
       "      <td>num_accts</td>\n",
       "      <td>2.25</td>\n",
       "    </tr>\n",
       "  </tbody>\n",
       "</table>\n",
       "</div>"
      ],
      "text/plain": [
       "        Attribute  Average Value\n",
       "0        clnt_age          47.32\n",
       "1             bal      149516.79\n",
       "2   logons_6_mnth           6.13\n",
       "3  clnt_tenure_yr          12.03\n",
       "4       num_accts           2.25"
      ]
     },
     "execution_count": 435,
     "metadata": {},
     "output_type": "execute_result"
    }
   ],
   "source": [
    "average_client = df_clean[['clnt_age','bal', 'logons_6_mnth', 'clnt_tenure_yr','num_accts']].mean().round(2)\n",
    "average_client_df = pd.DataFrame(average_client).reset_index()\n",
    "average_client_df.columns = ['Attribute', 'Average Value']\n",
    "average_client_df"
   ]
  },
  {
   "cell_type": "code",
   "execution_count": 437,
   "id": "e6c737f6-8f44-4e39-978f-cfa185276b64",
   "metadata": {},
   "outputs": [],
   "source": [
    "# DataFrame to a CSV file\n",
    "average_client_df.to_csv('average_client_data.csv', index=False)\n"
   ]
  },
  {
   "cell_type": "code",
   "execution_count": null,
   "id": "788918a8-0560-40e4-847a-c887bac6bc83",
   "metadata": {},
   "outputs": [],
   "source": []
  },
  {
   "cell_type": "code",
   "execution_count": 440,
   "id": "851a9fa7-e525-4694-8bea-0e87864936af",
   "metadata": {},
   "outputs": [
    {
     "data": {
      "text/html": [
       "<div>\n",
       "<style scoped>\n",
       "    .dataframe tbody tr th:only-of-type {\n",
       "        vertical-align: middle;\n",
       "    }\n",
       "\n",
       "    .dataframe tbody tr th {\n",
       "        vertical-align: top;\n",
       "    }\n",
       "\n",
       "    .dataframe thead th {\n",
       "        text-align: right;\n",
       "    }\n",
       "</style>\n",
       "<table border=\"1\" class=\"dataframe\">\n",
       "  <thead>\n",
       "    <tr style=\"text-align: right;\">\n",
       "      <th></th>\n",
       "      <th>Gender</th>\n",
       "      <th>Percentage</th>\n",
       "    </tr>\n",
       "  </thead>\n",
       "  <tbody>\n",
       "    <tr>\n",
       "      <th>0</th>\n",
       "      <td>U</td>\n",
       "      <td>34.23</td>\n",
       "    </tr>\n",
       "    <tr>\n",
       "      <th>1</th>\n",
       "      <td>M</td>\n",
       "      <td>33.57</td>\n",
       "    </tr>\n",
       "    <tr>\n",
       "      <th>2</th>\n",
       "      <td>F</td>\n",
       "      <td>32.20</td>\n",
       "    </tr>\n",
       "    <tr>\n",
       "      <th>3</th>\n",
       "      <td>X</td>\n",
       "      <td>0.00</td>\n",
       "    </tr>\n",
       "  </tbody>\n",
       "</table>\n",
       "</div>"
      ],
      "text/plain": [
       "  Gender  Percentage\n",
       "0      U       34.23\n",
       "1      M       33.57\n",
       "2      F       32.20\n",
       "3      X        0.00"
      ]
     },
     "execution_count": 440,
     "metadata": {},
     "output_type": "execute_result"
    }
   ],
   "source": [
    "gender_proportions = (df_clean['gendr'].value_counts(normalize=True) * 100).round(2)\n",
    "gender_proportions_df = gender_proportions.reset_index()\n",
    "gender_proportions_df.columns = ['Gender', 'Percentage']\n",
    "gender_proportions_df"
   ]
  },
  {
   "cell_type": "code",
   "execution_count": 442,
   "id": "103f4b3e-d5c4-4bce-936b-e0858573c1ac",
   "metadata": {},
   "outputs": [],
   "source": [
    "# Save the DataFrame to a CSV file\n",
    "gender_proportions_df.to_csv('gender_proportions_df.csv', index=False)\n"
   ]
  },
  {
   "cell_type": "code",
   "execution_count": null,
   "id": "c0ff3dbb-578e-434e-86d6-9262a7edf3a1",
   "metadata": {},
   "outputs": [],
   "source": []
  },
  {
   "cell_type": "code",
   "execution_count": 445,
   "id": "9bb8aef8-fb7a-4643-a611-335d9affd052",
   "metadata": {},
   "outputs": [
    {
     "data": {
      "text/html": [
       "<div>\n",
       "<style scoped>\n",
       "    .dataframe tbody tr th:only-of-type {\n",
       "        vertical-align: middle;\n",
       "    }\n",
       "\n",
       "    .dataframe tbody tr th {\n",
       "        vertical-align: top;\n",
       "    }\n",
       "\n",
       "    .dataframe thead th {\n",
       "        text-align: right;\n",
       "    }\n",
       "</style>\n",
       "<table border=\"1\" class=\"dataframe\">\n",
       "  <thead>\n",
       "    <tr style=\"text-align: right;\">\n",
       "      <th></th>\n",
       "      <th>Gender</th>\n",
       "      <th>Percentage</th>\n",
       "    </tr>\n",
       "  </thead>\n",
       "  <tbody>\n",
       "    <tr>\n",
       "      <th>0</th>\n",
       "      <td>M</td>\n",
       "      <td>51.04</td>\n",
       "    </tr>\n",
       "    <tr>\n",
       "      <th>1</th>\n",
       "      <td>F</td>\n",
       "      <td>48.96</td>\n",
       "    </tr>\n",
       "  </tbody>\n",
       "</table>\n",
       "</div>"
      ],
      "text/plain": [
       "  Gender  Percentage\n",
       "0      M       51.04\n",
       "1      F       48.96"
      ]
     },
     "execution_count": 445,
     "metadata": {},
     "output_type": "execute_result"
    }
   ],
   "source": [
    "gender_proportions = (df_gender_clean['gendr'].value_counts(normalize=True) * 100).round(2)\n",
    "gender_proportions_clean_df = gender_proportions.reset_index()\n",
    "gender_proportions_clean_df.columns = ['Gender', 'Percentage']\n",
    "gender_proportions_clean_df"
   ]
  },
  {
   "cell_type": "code",
   "execution_count": 480,
   "id": "02dc98be-303e-45ce-bdf5-08f4152aeb05",
   "metadata": {},
   "outputs": [
    {
     "ename": "KeyError",
     "evalue": "1",
     "output_type": "error",
     "traceback": [
      "\u001b[0;31m---------------------------------------------------------------------------\u001b[0m",
      "\u001b[0;31mKeyError\u001b[0m                                  Traceback (most recent call last)",
      "File \u001b[0;32m/opt/anaconda3/lib/python3.12/site-packages/pandas/core/indexes/base.py:3805\u001b[0m, in \u001b[0;36mIndex.get_loc\u001b[0;34m(self, key)\u001b[0m\n\u001b[1;32m   3804\u001b[0m \u001b[38;5;28;01mtry\u001b[39;00m:\n\u001b[0;32m-> 3805\u001b[0m     \u001b[38;5;28;01mreturn\u001b[39;00m \u001b[38;5;28mself\u001b[39m\u001b[38;5;241m.\u001b[39m_engine\u001b[38;5;241m.\u001b[39mget_loc(casted_key)\n\u001b[1;32m   3806\u001b[0m \u001b[38;5;28;01mexcept\u001b[39;00m \u001b[38;5;167;01mKeyError\u001b[39;00m \u001b[38;5;28;01mas\u001b[39;00m err:\n",
      "File \u001b[0;32mindex.pyx:167\u001b[0m, in \u001b[0;36mpandas._libs.index.IndexEngine.get_loc\u001b[0;34m()\u001b[0m\n",
      "File \u001b[0;32mindex.pyx:175\u001b[0m, in \u001b[0;36mpandas._libs.index.IndexEngine.get_loc\u001b[0;34m()\u001b[0m\n",
      "File \u001b[0;32mindex.pyx:802\u001b[0m, in \u001b[0;36mpandas._libs.index.BoolEngine._check_type\u001b[0;34m()\u001b[0m\n",
      "\u001b[0;31mKeyError\u001b[0m: 1",
      "\nThe above exception was the direct cause of the following exception:\n",
      "\u001b[0;31mKeyError\u001b[0m                                  Traceback (most recent call last)",
      "Cell \u001b[0;32mIn[480], line 25\u001b[0m\n\u001b[1;32m     23\u001b[0m     error_counts[\u001b[38;5;124m'\u001b[39m\u001b[38;5;124merror_rate\u001b[39m\u001b[38;5;124m'\u001b[39m] \u001b[38;5;241m=\u001b[39m error_counts[\u001b[38;5;28;01mTrue\u001b[39;00m] \u001b[38;5;241m/\u001b[39m (error_counts[\u001b[38;5;28;01mTrue\u001b[39;00m] \u001b[38;5;241m+\u001b[39m error_counts[\u001b[38;5;28;01mFalse\u001b[39;00m])\n\u001b[1;32m     24\u001b[0m \u001b[38;5;28;01melse\u001b[39;00m:\n\u001b[0;32m---> 25\u001b[0m     error_counts[\u001b[38;5;124m'\u001b[39m\u001b[38;5;124merror_rate\u001b[39m\u001b[38;5;124m'\u001b[39m] \u001b[38;5;241m=\u001b[39m error_counts[\u001b[38;5;241m1\u001b[39m] \u001b[38;5;241m/\u001b[39m (error_counts[\u001b[38;5;241m1\u001b[39m] \u001b[38;5;241m+\u001b[39m error_counts[\u001b[38;5;241m0\u001b[39m])\n\u001b[1;32m     27\u001b[0m \u001b[38;5;66;03m# Step 5: Round error rates to two decimal places\u001b[39;00m\n\u001b[1;32m     28\u001b[0m error_counts[\u001b[38;5;124m'\u001b[39m\u001b[38;5;124merror_rate\u001b[39m\u001b[38;5;124m'\u001b[39m] \u001b[38;5;241m=\u001b[39m error_counts[\u001b[38;5;124m'\u001b[39m\u001b[38;5;124merror_rate\u001b[39m\u001b[38;5;124m'\u001b[39m]\u001b[38;5;241m.\u001b[39mround(\u001b[38;5;241m2\u001b[39m)\n",
      "File \u001b[0;32m/opt/anaconda3/lib/python3.12/site-packages/pandas/core/frame.py:4102\u001b[0m, in \u001b[0;36mDataFrame.__getitem__\u001b[0;34m(self, key)\u001b[0m\n\u001b[1;32m   4100\u001b[0m \u001b[38;5;28;01mif\u001b[39;00m \u001b[38;5;28mself\u001b[39m\u001b[38;5;241m.\u001b[39mcolumns\u001b[38;5;241m.\u001b[39mnlevels \u001b[38;5;241m>\u001b[39m \u001b[38;5;241m1\u001b[39m:\n\u001b[1;32m   4101\u001b[0m     \u001b[38;5;28;01mreturn\u001b[39;00m \u001b[38;5;28mself\u001b[39m\u001b[38;5;241m.\u001b[39m_getitem_multilevel(key)\n\u001b[0;32m-> 4102\u001b[0m indexer \u001b[38;5;241m=\u001b[39m \u001b[38;5;28mself\u001b[39m\u001b[38;5;241m.\u001b[39mcolumns\u001b[38;5;241m.\u001b[39mget_loc(key)\n\u001b[1;32m   4103\u001b[0m \u001b[38;5;28;01mif\u001b[39;00m is_integer(indexer):\n\u001b[1;32m   4104\u001b[0m     indexer \u001b[38;5;241m=\u001b[39m [indexer]\n",
      "File \u001b[0;32m/opt/anaconda3/lib/python3.12/site-packages/pandas/core/indexes/base.py:3812\u001b[0m, in \u001b[0;36mIndex.get_loc\u001b[0;34m(self, key)\u001b[0m\n\u001b[1;32m   3807\u001b[0m     \u001b[38;5;28;01mif\u001b[39;00m \u001b[38;5;28misinstance\u001b[39m(casted_key, \u001b[38;5;28mslice\u001b[39m) \u001b[38;5;129;01mor\u001b[39;00m (\n\u001b[1;32m   3808\u001b[0m         \u001b[38;5;28misinstance\u001b[39m(casted_key, abc\u001b[38;5;241m.\u001b[39mIterable)\n\u001b[1;32m   3809\u001b[0m         \u001b[38;5;129;01mand\u001b[39;00m \u001b[38;5;28many\u001b[39m(\u001b[38;5;28misinstance\u001b[39m(x, \u001b[38;5;28mslice\u001b[39m) \u001b[38;5;28;01mfor\u001b[39;00m x \u001b[38;5;129;01min\u001b[39;00m casted_key)\n\u001b[1;32m   3810\u001b[0m     ):\n\u001b[1;32m   3811\u001b[0m         \u001b[38;5;28;01mraise\u001b[39;00m InvalidIndexError(key)\n\u001b[0;32m-> 3812\u001b[0m     \u001b[38;5;28;01mraise\u001b[39;00m \u001b[38;5;167;01mKeyError\u001b[39;00m(key) \u001b[38;5;28;01mfrom\u001b[39;00m \u001b[38;5;21;01merr\u001b[39;00m\n\u001b[1;32m   3813\u001b[0m \u001b[38;5;28;01mexcept\u001b[39;00m \u001b[38;5;167;01mTypeError\u001b[39;00m:\n\u001b[1;32m   3814\u001b[0m     \u001b[38;5;66;03m# If we have a listlike key, _check_indexing_error will raise\u001b[39;00m\n\u001b[1;32m   3815\u001b[0m     \u001b[38;5;66;03m#  InvalidIndexError. Otherwise we fall through and re-raise\u001b[39;00m\n\u001b[1;32m   3816\u001b[0m     \u001b[38;5;66;03m#  the TypeError.\u001b[39;00m\n\u001b[1;32m   3817\u001b[0m     \u001b[38;5;28mself\u001b[39m\u001b[38;5;241m.\u001b[39m_check_indexing_error(key)\n",
      "\u001b[0;31mKeyError\u001b[0m: 1"
     ]
    }
   ],
   "source": [
    "# Detect backward steps (errors)\n",
    "#  sort by visit_id and timestamp to identify sequence of steps for each client\n",
    "df_clean_sorted = df_clean.sort_values(by=['client_id', 'visit_id', 'date_time'])\n",
    "\n",
    "#new column 'previous_step' to check for backward steps\n",
    "df_clean_sorted['previous_step'] = df_clean_sorted.groupby(['client_id', 'visit_id'])['process_step'].shift(1)\n",
    "\n",
    "# Mark backward steps (i.e., errors) as where the process_step is less than the previous_step\n",
    "df_clean_sorted['is_error'] = df_clean_sorted['process_step'] < df_clean_sorted['previous_step']\n",
    "\n",
    "# Step 2: Group by age and calculate error rates\n",
    "age_bins = range(0, 101, 10)  # Age groups: 0-9, 10-19, ..., 90-99\n",
    "age_labels = [f'{i}-{i+9}' for i in range(0, 100, 10)]  # Labels: '0-9', '10-19', ..., '90-99'\n",
    "\n",
    "# new column for the age group\n",
    "df_clean_sorted['age_group'] = pd.cut(df_clean_sorted['clnt_age'], bins=age_bins, labels=age_labels, right=False)\n",
    "\n",
    "# Step 3: Calculate error rate per age group\n",
    "\n",
    "error_counts = df_clean_sorted.groupby(['age_group', 'is_error'], observed=False).size().unstack(fill_value=0)\n",
    "\n",
    "# Calculate the error rate as the proportion of errors\n",
    "error_counts['error_rate'] = error_counts[True] / (error_counts[True] + error_counts[False])\n",
    "\n",
    "# Step 4: Round error rates to two decimal places\n",
    "error_counts['error_rate'] = error_counts['error_rate'].round(2)\n",
    "error_counts['percentile_rank'] = error_counts['error_rate'].rank(pct=True) * 100\n",
    "\n",
    "# Step 5: Display the result\n",
    "error_counts = error_counts.sort_values(by='error_rate', ascending=False)\n",
    "\n",
    "\n",
    "print(error_counts[['error_rate']])\n",
    "\n",
    "\n"
   ]
  },
  {
   "cell_type": "code",
   "execution_count": null,
   "id": "413871bb-6db5-4a69-97cf-dd24807e1518",
   "metadata": {},
   "outputs": [],
   "source": []
  },
  {
   "cell_type": "code",
   "execution_count": null,
   "id": "06476582-373c-4a94-a49a-788e62768807",
   "metadata": {},
   "outputs": [],
   "source": []
  },
  {
   "cell_type": "code",
   "execution_count": null,
   "id": "0ff48060-6661-4836-bce4-2df1b1419d4d",
   "metadata": {},
   "outputs": [],
   "source": [
    "error_counts[['error_rate']].to_csv('error_rates_by_age_group.csv', index=True)"
   ]
  },
  {
   "cell_type": "code",
   "execution_count": 452,
   "id": "75236686-ae1a-43c9-b6fe-4c0b95e4ea77",
   "metadata": {},
   "outputs": [],
   "source": [
    "# average client test group and contol group\n",
    "test_group = df_clean[df_clean['variation'] == 'Test']\n",
    "control_group = df_clean[df_clean['variation'] == 'Control']"
   ]
  },
  {
   "cell_type": "code",
   "execution_count": 454,
   "id": "ab2bf210-7754-4668-9db1-33a022e36081",
   "metadata": {},
   "outputs": [],
   "source": [
    "test_group_avg = test_group[['clnt_age', 'bal', 'logons_6_mnth', 'clnt_tenure_yr']].mean().round(2)\n",
    "control_group_avg = control_group[['clnt_age', 'bal', 'logons_6_mnth', 'clnt_tenure_yr']].mean().round(2)\n"
   ]
  },
  {
   "cell_type": "code",
   "execution_count": 456,
   "id": "fb95ac50-4d54-44fe-8cdc-cdc30b60f0cd",
   "metadata": {},
   "outputs": [
    {
     "data": {
      "text/html": [
       "<div>\n",
       "<style scoped>\n",
       "    .dataframe tbody tr th:only-of-type {\n",
       "        vertical-align: middle;\n",
       "    }\n",
       "\n",
       "    .dataframe tbody tr th {\n",
       "        vertical-align: top;\n",
       "    }\n",
       "\n",
       "    .dataframe thead th {\n",
       "        text-align: right;\n",
       "    }\n",
       "</style>\n",
       "<table border=\"1\" class=\"dataframe\">\n",
       "  <thead>\n",
       "    <tr style=\"text-align: right;\">\n",
       "      <th></th>\n",
       "      <th>Attribute</th>\n",
       "      <th>Average Value</th>\n",
       "    </tr>\n",
       "  </thead>\n",
       "  <tbody>\n",
       "    <tr>\n",
       "      <th>0</th>\n",
       "      <td>clnt_age</td>\n",
       "      <td>47.16</td>\n",
       "    </tr>\n",
       "    <tr>\n",
       "      <th>1</th>\n",
       "      <td>bal</td>\n",
       "      <td>148962.61</td>\n",
       "    </tr>\n",
       "    <tr>\n",
       "      <th>2</th>\n",
       "      <td>logons_6_mnth</td>\n",
       "      <td>6.10</td>\n",
       "    </tr>\n",
       "    <tr>\n",
       "      <th>3</th>\n",
       "      <td>clnt_tenure_yr</td>\n",
       "      <td>11.98</td>\n",
       "    </tr>\n",
       "  </tbody>\n",
       "</table>\n",
       "</div>"
      ],
      "text/plain": [
       "        Attribute  Average Value\n",
       "0        clnt_age          47.16\n",
       "1             bal      148962.61\n",
       "2   logons_6_mnth           6.10\n",
       "3  clnt_tenure_yr          11.98"
      ]
     },
     "execution_count": 456,
     "metadata": {},
     "output_type": "execute_result"
    }
   ],
   "source": [
    "test_group_avg_df = pd.DataFrame(test_group_avg).reset_index()\n",
    "test_group_avg_df.columns = ['Attribute', 'Average Value']\n",
    "test_group_avg_df\n"
   ]
  },
  {
   "cell_type": "code",
   "execution_count": 458,
   "id": "fce08fe1-5d32-4ce2-826b-09c90859050e",
   "metadata": {},
   "outputs": [],
   "source": [
    "test_group_avg_df.to_csv('test_group_avg.csv', index=False)"
   ]
  },
  {
   "cell_type": "code",
   "execution_count": 460,
   "id": "de5b11a7-2d5b-4f24-8605-c351ee15c9f8",
   "metadata": {},
   "outputs": [],
   "source": [
    "####"
   ]
  },
  {
   "cell_type": "code",
   "execution_count": 462,
   "id": "ca7d8c74-9a02-48c7-877e-c7152edd4506",
   "metadata": {},
   "outputs": [
    {
     "data": {
      "text/html": [
       "<div>\n",
       "<style scoped>\n",
       "    .dataframe tbody tr th:only-of-type {\n",
       "        vertical-align: middle;\n",
       "    }\n",
       "\n",
       "    .dataframe tbody tr th {\n",
       "        vertical-align: top;\n",
       "    }\n",
       "\n",
       "    .dataframe thead th {\n",
       "        text-align: right;\n",
       "    }\n",
       "</style>\n",
       "<table border=\"1\" class=\"dataframe\">\n",
       "  <thead>\n",
       "    <tr style=\"text-align: right;\">\n",
       "      <th></th>\n",
       "      <th>Attribute</th>\n",
       "      <th>Average Value</th>\n",
       "    </tr>\n",
       "  </thead>\n",
       "  <tbody>\n",
       "    <tr>\n",
       "      <th>0</th>\n",
       "      <td>clnt_age</td>\n",
       "      <td>47.50</td>\n",
       "    </tr>\n",
       "    <tr>\n",
       "      <th>1</th>\n",
       "      <td>bal</td>\n",
       "      <td>150151.90</td>\n",
       "    </tr>\n",
       "    <tr>\n",
       "      <th>2</th>\n",
       "      <td>logons_6_mnth</td>\n",
       "      <td>6.17</td>\n",
       "    </tr>\n",
       "    <tr>\n",
       "      <th>3</th>\n",
       "      <td>clnt_tenure_yr</td>\n",
       "      <td>12.09</td>\n",
       "    </tr>\n",
       "  </tbody>\n",
       "</table>\n",
       "</div>"
      ],
      "text/plain": [
       "        Attribute  Average Value\n",
       "0        clnt_age          47.50\n",
       "1             bal      150151.90\n",
       "2   logons_6_mnth           6.17\n",
       "3  clnt_tenure_yr          12.09"
      ]
     },
     "execution_count": 462,
     "metadata": {},
     "output_type": "execute_result"
    }
   ],
   "source": [
    "control_group_avg_df = pd.DataFrame(control_group_avg).reset_index()\n",
    "control_group_avg_df.columns = ['Attribute', 'Average Value']\n",
    "control_group_avg_df"
   ]
  },
  {
   "cell_type": "code",
   "execution_count": 464,
   "id": "3a720290-c86a-4c1e-a234-a4bd15df0266",
   "metadata": {},
   "outputs": [],
   "source": [
    "control_group_avg_df.to_csv('control_group_avg.csv', index=False)"
   ]
  },
  {
   "cell_type": "code",
   "execution_count": 466,
   "id": "59d33e21-90aa-4487-b3a9-80c828becc3c",
   "metadata": {},
   "outputs": [],
   "source": [
    "#gender\n",
    "# Calculate gender proportions for the test group\n",
    "test_group_gender_proportions = test_group['gendr'].value_counts(normalize=True) * 100\n",
    "\n",
    "# Calculate gender proportions for the control group\n",
    "control_group_gender_proportions = control_group['gendr'].value_counts(normalize=True) * 100\n"
   ]
  },
  {
   "cell_type": "code",
   "execution_count": 468,
   "id": "34675762-c5ef-4ed6-a007-865dacaf7ed4",
   "metadata": {},
   "outputs": [
    {
     "data": {
      "text/plain": [
       "(gendr\n",
       " U    34.368161\n",
       " M    33.296243\n",
       " F    32.328178\n",
       " X     0.007418\n",
       " Name: proportion, dtype: float64,\n",
       " gendr\n",
       " U    34.064439\n",
       " M    33.877412\n",
       " F    32.058148\n",
       " Name: proportion, dtype: float64)"
      ]
     },
     "execution_count": 468,
     "metadata": {},
     "output_type": "execute_result"
    }
   ],
   "source": [
    "test_group_gender_proportions, control_group_gender_proportions"
   ]
  },
  {
   "cell_type": "code",
   "execution_count": null,
   "id": "8e88ec2c-3c39-463c-9dd7-d597eab7104e",
   "metadata": {},
   "outputs": [],
   "source": []
  },
  {
   "cell_type": "code",
   "execution_count": null,
   "id": "c4a95508-81ef-4cfb-889e-87afdf332776",
   "metadata": {},
   "outputs": [],
   "source": []
  },
  {
   "cell_type": "code",
   "execution_count": null,
   "id": "9de7c472-1c5e-415f-b067-f74110393dbe",
   "metadata": {},
   "outputs": [],
   "source": []
  },
  {
   "cell_type": "code",
   "execution_count": null,
   "id": "97ce1141-5560-4d68-a542-a4a0a2d68539",
   "metadata": {},
   "outputs": [],
   "source": []
  },
  {
   "cell_type": "code",
   "execution_count": null,
   "id": "db62c4a1-23ee-4b9d-a353-f1d41029675f",
   "metadata": {},
   "outputs": [],
   "source": []
  },
  {
   "cell_type": "code",
   "execution_count": null,
   "id": "c0f069a4-e09f-4286-b49d-891d8d581479",
   "metadata": {},
   "outputs": [],
   "source": [
    "df_clean.to_csv(\"clean_data_v1.csv\", index=False)"
   ]
  }
 ],
 "metadata": {
  "kernelspec": {
   "display_name": "Python 3 (ipykernel)",
   "language": "python",
   "name": "python3"
  },
  "language_info": {
   "codemirror_mode": {
    "name": "ipython",
    "version": 3
   },
   "file_extension": ".py",
   "mimetype": "text/x-python",
   "name": "python",
   "nbconvert_exporter": "python",
   "pygments_lexer": "ipython3",
   "version": "3.12.4"
  }
 },
 "nbformat": 4,
 "nbformat_minor": 5
}
