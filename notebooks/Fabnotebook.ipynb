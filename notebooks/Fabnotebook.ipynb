{
 "cells": [
  {
   "cell_type": "code",
   "execution_count": 1,
   "id": "279c294b-f233-44df-92ae-7a984336ce57",
   "metadata": {},
   "outputs": [],
   "source": [
    "import pandas as pd\n",
    "import numpy as np\n",
    "import os\n",
    "import matplotlib.pyplot as plt\n",
    "from matplotlib.colors import ListedColormap\n",
    "from statsmodels.stats.proportion import proportions_ztest"
   ]
  },
  {
   "cell_type": "code",
   "execution_count": 2,
   "id": "76ea6351-3099-465c-bca1-d1940277407b",
   "metadata": {},
   "outputs": [],
   "source": [
    "# Read the files\n",
    "#df_final_demo = pd.read_csv('df_final_demo.txt', delimiter=',')\n",
    "#df_final_experiment_clients = pd.read_csv('df_final_experiment_clients.txt', delimiter=',')\n",
    "#df_final_web_data_pt_1 = pd.read_csv('df_final_web_data_pt_1.txt', delimiter=',')\n",
    "#df_final_web_data_pt_2 = pd.read_csv('df_final_web_data_pt_2.txt', delimiter=',')"
   ]
  },
  {
   "cell_type": "code",
   "execution_count": null,
   "id": "ad813dc0-abbd-49d8-9bc5-512235051ba8",
   "metadata": {},
   "outputs": [],
   "source": [
    "'''# Check for missing values\n",
    "print(df_final_demo.isnull().sum())\n",
    "\n",
    "# Fill missing values or drop rows with significant missing data\n",
    "df_final_demo['clnt_age'] = df_final_demo['clnt_age'].fillna(df_final_demo['clnt_age'].median())\n",
    "df_final_demo['gendr'] = df_final_demo['gendr'].fillna('Unknown')\n",
    "\n",
    "# Replace negative or invalid values with NaN and handle them\n",
    "df_final_demo['bal'] = df_final_demo['bal'].apply(lambda x: np.nan if x < 0 else x)\n",
    "df_final_demo = df_final_demo.dropna()  # Drop rows with invalid values\n",
    "'''"
   ]
  },
  {
   "cell_type": "code",
   "execution_count": 4,
   "id": "0c03f084-a537-46c2-8446-8c90f82aa9c8",
   "metadata": {},
   "outputs": [],
   "source": [
    "#test case\n",
    "#print(df_final_experiment_clients.head())"
   ]
  },
  {
   "cell_type": "code",
   "execution_count": null,
   "id": "42facd36-c5cb-4540-bbe6-95b40085c702",
   "metadata": {},
   "outputs": [],
   "source": [
    "'''\n",
    "#clean df_final_experiment\n",
    "if 'Variation' in df_final_experiment_clients.columns:\n",
    "    print(df_final_experiment_clients['Variation'].unique())\n",
    "else:\n",
    "    print(\"'Variation' column not found. Cannot proceed with analysis.\")\n",
    "'''"
   ]
  },
  {
   "cell_type": "code",
   "execution_count": null,
   "id": "b5d6496c-9420-4675-afcc-e45793831e74",
   "metadata": {},
   "outputs": [],
   "source": [
    "'''\n",
    "df_final_experiment_clients = pd.read_csv('df_final_experiment_clients.csv', delimiter=',')\n",
    "\n",
    "# Ensure Variation contains only valid entries\n",
    "print(df_final_experiment_clients['Variation'].unique())\n",
    "\n",
    "# Fix invalid variations (if any)\n",
    "valid_variations = ['Test', 'Control']\n",
    "df_final_experiment_clients = df_final_experiment_clients[\n",
    "    df_final_experiment_clients['Variation'].isin(valid_variations)\n",
    "]'''"
   ]
  },
  {
   "cell_type": "code",
   "execution_count": null,
   "id": "a545f0f6-03b1-4ff5-96cf-b1a7dd67355c",
   "metadata": {},
   "outputs": [],
   "source": [
    "'''\n",
    "# Concatenate the two parts\n",
    "df_final_web_data = pd.concat([df_final_web_data_pt_1, df_final_web_data_pt_2], ignore_index=True)\n",
    "\n",
    "# Convert `date_time` to datetime format\n",
    "df_final_web_data['date_time'] = pd.to_datetime(df_final_web_data['date_time'])\n",
    "\n",
    "# Check for duplicates and drop them\n",
    "df_final_web_data = df_final_web_data.drop_duplicates()\n",
    "\n",
    "# Ensure `process_step` is valid (e.g., integers or known steps)\n",
    "print(df_final_web_data['process_step'].unique())\n",
    "'''"
   ]
  },
  {
   "cell_type": "code",
   "execution_count": null,
   "id": "28c1938d-e465-454a-998f-1f617a7e2c14",
   "metadata": {},
   "outputs": [],
   "source": [
    "'''\n",
    "merged_data = pd.merge(df_final_demo, df_final_experiment_clients, on='client_id', how='inner')\n",
    "\n",
    "# Merge the web data\n",
    "merged_data = pd.merge(merged_data, df_final_web_data, on='client_id', how='inner')\n",
    "'''"
   ]
  },
  {
   "cell_type": "code",
   "execution_count": 9,
   "id": "14928879-1e1b-4975-96e1-48cb7d171d53",
   "metadata": {
    "scrolled": true
   },
   "outputs": [],
   "source": [
    "#merged_data.to_csv('cleaned_data.csv', index=False)\n"
   ]
  },
  {
   "cell_type": "code",
   "execution_count": 10,
   "id": "d1efcff4-06ea-4415-ad1f-dfb48255899a",
   "metadata": {},
   "outputs": [],
   "source": [
    "#print(\"Current Working Directory:\", os.getcwd())\n",
    "#os.chdir('..vanguard-ab-test/data/clean')"
   ]
  },
  {
   "cell_type": "code",
   "execution_count": null,
   "id": "e3fd1c46-12f2-4331-beda-15eb6b01844a",
   "metadata": {
    "scrolled": true
   },
   "outputs": [],
   "source": [
    "#print out csv header \n",
    "df_all_clean = pd.read_csv(\"../cleaned_data.csv\", dtype={'Variation': 'str'}, low_memory=False)\n",
    "print(df_all_clean.dtypes)"
   ]
  },
  {
   "cell_type": "code",
   "execution_count": null,
   "id": "31cccbf9",
   "metadata": {},
   "outputs": [],
   "source": [
    "unique_count = df_all_clean['client_id'].nunique()\n",
    "print(f\"Number of unique client IDs: {unique_count}\")\n"
   ]
  },
  {
   "cell_type": "code",
   "execution_count": null,
   "id": "ed893709-7310-42dd-b343-321009f26fc4",
   "metadata": {},
   "outputs": [],
   "source": [
    "# Check the structure of the data\n",
    "print(df_all_clean.info())\n",
    "print(df_all_clean.head())"
   ]
  },
  {
   "cell_type": "code",
   "execution_count": null,
   "id": "b6e77c20-f716-42ac-94df-b8c5c096454b",
   "metadata": {},
   "outputs": [],
   "source": [
    "print(df_all_clean.describe())\n",
    "print(df_all_clean['gendr'].value_counts())"
   ]
  },
  {
   "cell_type": "code",
   "execution_count": null,
   "id": "75c68d14-7bf6-4f83-a556-43817567d2a9",
   "metadata": {},
   "outputs": [],
   "source": [
    "# Set pastel color for axis labels\n",
    "pastel_color = '#AEC6CF'  # Example pastel blue from a pastel palette\n",
    "\n",
    "# Plot with pastel style\n",
    "df_all_clean['clnt_age'].hist(bins=20, color='#5F9EA0', edgecolor='white')  # Add pastel orange for the bars\n",
    "plt.title('Age Distribution', color='#00CED1')  # Pastel green title\n",
    "plt.xlabel('Age', color='#008B8B')  # Use pastel blue for the label\n",
    "plt.ylabel('Frequency', color='#20B2AA')  # Use pastel blue for the label\n",
    "#plt.savefig('average_age_by_variation.png', dpi=300, bbox_inches='tight')  # Save as PNG\n",
    "plt.show()\n",
    "\n"
   ]
  },
  {
   "cell_type": "code",
   "execution_count": null,
   "id": "7c07ab77-b4cc-4ce3-b11e-9a9060eddc31",
   "metadata": {},
   "outputs": [],
   "source": [
    "#All test views\n",
    "print(df_all_clean.groupby('Variation')['clnt_age'].mean())\n",
    "print(df_all_clean.groupby('Variation')['bal'].sum())\n",
    "print(df_all_clean['gendr'].value_counts())\n",
    "\n"
   ]
  },
  {
   "cell_type": "code",
   "execution_count": null,
   "id": "300cac9d",
   "metadata": {},
   "outputs": [],
   "source": [
    "if {'client_id', 'gendr'}.issubset(data.columns):\n",
    "    # Get unique clients\n",
    "    unique_clients = data.drop_duplicates(subset='client_id')\n",
    "\n",
    "    # Filter for 'F' and 'M' genders\n",
    "    filtered_clients = unique_clients[unique_clients['gendr'].isin(['F', 'M'])]\n",
    "\n",
    "    # Count clients grouped by gender\n",
    "    gender_counts = filtered_clients['gendr'].value_counts()\n",
    "\n",
    "    # Calculate percentages\n",
    "    gender_percentages = (gender_counts / gender_counts.sum()) * 100\n",
    "\n",
    "    # Combine counts and percentages into a DataFrame for clarity\n",
    "    gender_stats = pd.DataFrame({\n",
    "        'Gender': gender_counts.index,\n",
    "        'Client Count': gender_counts.values,\n",
    "        'Percentage': gender_percentages.values\n",
    "    })\n",
    "\n",
    "    # Display results\n",
    "    print(gender_stats)"
   ]
  },
  {
   "cell_type": "code",
   "execution_count": null,
   "id": "aecc6f69-9302-45fa-84bb-819e20dfd8dd",
   "metadata": {},
   "outputs": [],
   "source": [
    "#Time spend in process steps\n",
    "df_all_clean['date_time'] = pd.to_datetime(df_all_clean['date_time'])\n",
    "\n",
    "# Sort data by client and timestamp\n",
    "df_all_clean = df_all_clean.sort_values(by=['client_id', 'date_time'])\n",
    "\n",
    "# Calculate time differences\n",
    "df_all_clean['time_diff'] = df_all_clean.groupby('client_id')['date_time'].diff()\n",
    "\n",
    "# Average time spent per step\n",
    "time_per_step = df_all_clean.groupby('process_step')['time_diff'].mean()\n",
    "print(time_per_step)\n"
   ]
  },
  {
   "cell_type": "code",
   "execution_count": null,
   "id": "d117273e-b77e-4d9a-8e34-e79c8a6e8257",
   "metadata": {},
   "outputs": [],
   "source": [
    "# Filter for the 'confirm' step\n",
    "completion_data = df_all_clean[df_all_clean['process_step'] == 'confirm']\n",
    "\n",
    "# Calculate completion rates\n",
    "total_test = len(df_all_clean[df_all_clean['Variation'] == 'Test'])\n",
    "total_control = len(df_all_clean[df_all_clean['Variation'] == 'Control'])\n",
    "confirm_test = len(completion_data[completion_data['Variation'] == 'Test'])\n",
    "confirm_control = len(completion_data[completion_data['Variation'] == 'Control'])\n",
    "\n",
    "test_completion_rate = confirm_test / total_test\n",
    "control_completion_rate = confirm_control / total_control\n",
    "\n",
    "print(f\"Test Completion Rate: {test_completion_rate}\")\n",
    "print(f\"Control Completion Rate: {control_completion_rate}\")\n"
   ]
  },
  {
   "cell_type": "code",
   "execution_count": 19,
   "id": "3abd0deb-ee2e-4533-9ddb-db26ab2bd0bf",
   "metadata": {},
   "outputs": [],
   "source": [
    "data = pd.read_csv(\"../data/clean/clean_data_v1.csv\", dtype={'Variation': 'str'}, low_memory=False)"
   ]
  },
  {
   "cell_type": "code",
   "execution_count": null,
   "id": "83dba4e0",
   "metadata": {},
   "outputs": [],
   "source": [
    "# Convert date_time column to datetime type for calculations\n",
    "data['date_time'] = pd.to_datetime(data['date_time'])\n",
    "\n",
    "# Completion Rate Calculation\n",
    "# Filter data for 'confirm' step\n",
    "confirm_data = data[data['process_step'] == 'confirm']\n",
    "\n",
    "# Total users in Test and Control groups\n",
    "test_users = data[data['Variation'] == 'Test']['visitor_id'].nunique()\n",
    "control_users = data[data['Variation'] == 'Control']['visitor_id'].nunique()\n",
    "\n",
    "# Users who reached the 'confirm' step in each group\n",
    "test_confirm_users = confirm_data[confirm_data['Variation'] == 'Test']['visitor_id'].nunique()\n",
    "control_confirm_users = confirm_data[confirm_data['Variation'] == 'Control']['visitor_id'].nunique()\n",
    "\n",
    "# Completion rates\n",
    "test_completion_rate = test_confirm_users / test_users\n",
    "control_completion_rate = control_confirm_users / control_users\n",
    "\n",
    "# Time Spent on Each Step Calculation\n",
    "# Calculate time difference between consecutive steps for each visit\n",
    "data = data.sort_values(by=['visitor_id', 'date_time'])\n",
    "data['time_diff'] = data.groupby('visitor_id')['date_time'].diff()\n",
    "\n",
    "# Average time spent on each step by group\n",
    "time_spent_by_step = data.groupby(['Variation', 'process_step'])['time_diff'].mean().reset_index()\n",
    "\n",
    "# Error Rate Calculation\n",
    "# Determine backward navigation (process_step decreases)\n",
    "data['step_number'] = data['process_step'].str.extract('(\\d+)').astype(float)\n",
    "data['step_diff'] = data.groupby('visitor_id')['step_number'].diff()\n",
    "\n",
    "# Identify backward steps\n",
    "data['is_backward'] = data['step_diff'] < 0\n",
    "\n",
    "# Error rate for Test and Control groups\n",
    "test_error_rate = data[data['Variation'] == 'Test']['is_backward'].sum() / len(data[data['Variation'] == 'Test'])\n",
    "control_error_rate = data[data['Variation'] == 'Control']['is_backward'].sum() / len(data[data['Variation'] == 'Control'])\n",
    "\n",
    "# Display the results\n",
    "metrics = {\n",
    "    \"Test Completion Rate\": f\"{test_completion_rate:.2%}\",\n",
    "    \"Control Completion Rate\": f\"{control_completion_rate:.2%}\",\n",
    "    \"Test Error Rate\": f\"{test_error_rate:.2%}\",\n",
    "    \"Control Error Rate\": f\"{control_error_rate:.2%}\"\n",
    "}\n",
    "\n",
    "time_spent_by_step, metrics\n"
   ]
  },
  {
   "cell_type": "code",
   "execution_count": 39,
   "id": "ae60c9fa-0052-4cbe-9d46-e8a58d82f933",
   "metadata": {},
   "outputs": [
    {
     "ename": "NameError",
     "evalue": "name 'test_age_groups' is not defined",
     "output_type": "error",
     "traceback": [
      "\u001b[1;31m---------------------------------------------------------------------------\u001b[0m",
      "\u001b[1;31mNameError\u001b[0m                                 Traceback (most recent call last)",
      "Cell \u001b[1;32mIn[39], line 2\u001b[0m\n\u001b[0;32m      1\u001b[0m plt\u001b[38;5;241m.\u001b[39mfigure(figsize\u001b[38;5;241m=\u001b[39m(\u001b[38;5;241m12\u001b[39m, \u001b[38;5;241m6\u001b[39m))\n\u001b[1;32m----> 2\u001b[0m plt\u001b[38;5;241m.\u001b[39mplot(\u001b[43mtest_age_groups\u001b[49m[\u001b[38;5;124m'\u001b[39m\u001b[38;5;124mclnt_age\u001b[39m\u001b[38;5;124m'\u001b[39m], test_age_groups[\u001b[38;5;124m'\u001b[39m\u001b[38;5;124merror_rate\u001b[39m\u001b[38;5;124m'\u001b[39m], label\u001b[38;5;241m=\u001b[39m\u001b[38;5;124m'\u001b[39m\u001b[38;5;124mTest Group\u001b[39m\u001b[38;5;124m'\u001b[39m, color\u001b[38;5;241m=\u001b[39m\u001b[38;5;124m'\u001b[39m\u001b[38;5;124mblue\u001b[39m\u001b[38;5;124m'\u001b[39m, marker\u001b[38;5;241m=\u001b[39m\u001b[38;5;124m'\u001b[39m\u001b[38;5;124mo\u001b[39m\u001b[38;5;124m'\u001b[39m)\n\u001b[0;32m      3\u001b[0m plt\u001b[38;5;241m.\u001b[39mplot(control_age_groups[\u001b[38;5;124m'\u001b[39m\u001b[38;5;124mclnt_age\u001b[39m\u001b[38;5;124m'\u001b[39m], control_age_groups[\u001b[38;5;124m'\u001b[39m\u001b[38;5;124merror_rate\u001b[39m\u001b[38;5;124m'\u001b[39m], label\u001b[38;5;241m=\u001b[39m\u001b[38;5;124m'\u001b[39m\u001b[38;5;124mControl Group\u001b[39m\u001b[38;5;124m'\u001b[39m, color\u001b[38;5;241m=\u001b[39m\u001b[38;5;124m'\u001b[39m\u001b[38;5;124mred\u001b[39m\u001b[38;5;124m'\u001b[39m, marker\u001b[38;5;241m=\u001b[39m\u001b[38;5;124m'\u001b[39m\u001b[38;5;124mo\u001b[39m\u001b[38;5;124m'\u001b[39m)\n\u001b[0;32m      4\u001b[0m plt\u001b[38;5;241m.\u001b[39mxlabel(\u001b[38;5;124m'\u001b[39m\u001b[38;5;124mAge\u001b[39m\u001b[38;5;124m'\u001b[39m, fontsize\u001b[38;5;241m=\u001b[39m\u001b[38;5;241m14\u001b[39m)\n",
      "\u001b[1;31mNameError\u001b[0m: name 'test_age_groups' is not defined"
     ]
    },
    {
     "data": {
      "text/plain": [
       "<Figure size 1200x600 with 0 Axes>"
      ]
     },
     "metadata": {},
     "output_type": "display_data"
    }
   ],
   "source": [
    "plt.figure(figsize=(12, 6))\n",
    "plt.plot(test_age_groups['clnt_age'], test_age_groups['error_rate'], label='Test Group', color='blue', marker='o')\n",
    "plt.plot(control_age_groups['clnt_age'], control_age_groups['error_rate'], label='Control Group', color='red', marker='o')\n",
    "plt.xlabel('Age', fontsize=14)\n",
    "plt.ylabel('Error Rate', fontsize=14)\n",
    "plt.title('Error Rate by Age Group for Test and Control Groups', fontsize=16)\n",
    "plt.legend(fontsize=12)\n",
    "plt.grid(axis='y', linestyle='--', alpha=0.7)\n",
    "plt.tight_layout()\n",
    "#plt.savefig('Error Rate by Age Group for Test and Control Groups', format='png', dpi=300)\n",
    "plt.show()\n"
   ]
  },
  {
   "cell_type": "code",
   "execution_count": 54,
   "id": "e31533cd-92b8-429b-b34f-fc76b13e76f0",
   "metadata": {},
   "outputs": [
    {
     "name": "stdout",
     "output_type": "stream",
     "text": [
      "Z-Statistic: 17.60, P-Value: 0.0000\n",
      "Reject the null hypothesis: There is a significant difference in completion rates.\n"
     ]
    }
   ],
   "source": [
    "# Successes and samples\n",
    "successes = [confirm_test, confirm_control]\n",
    "samples = [total_test, total_control]\n",
    "\n",
    "# Perform z-test\n",
    "z_stat, p_value = proportions_ztest(successes, samples)\n",
    "print(f\"Z-Statistic: {z_stat:.2f}, P-Value: {p_value:.4f}\")\n",
    "\n",
    "# Conclusion\n",
    "if p_value < 0.05:\n",
    "    print(\"Reject the null hypothesis: There is a significant difference in completion rates.\")\n",
    "else:\n",
    "    print(\"Fail to reject the null hypothesis: No significant difference in completion rates.\")\n"
   ]
  },
  {
   "cell_type": "code",
   "execution_count": 53,
   "id": "73788422-af66-401c-8120-80fa0338d850",
   "metadata": {},
   "outputs": [
    {
     "name": "stdout",
     "output_type": "stream",
     "text": [
      "Observed Increase: 5.97%\n",
      "Z-Statistic (Threshold Test): 17.60, P-Value: 0.0000\n",
      "Reject the null hypothesis: The Test group meets the 5% threshold.\n"
     ]
    }
   ],
   "source": [
    "# Adjust threshold for one-sided test\n",
    "threshold = 0.05  # 5% increase required\n",
    "\n",
    "# Recalculate z-test with adjusted threshold\n",
    "from statsmodels.stats.proportion import proportions_ztest\n",
    "\n",
    "# Modify success array to reflect threshold\n",
    "successes_adjusted = [confirm_test, confirm_control]\n",
    "samples_adjusted = [total_test, total_control]\n",
    "\n",
    "# Perform one-sided z-test\n",
    "z_stat_threshold, p_value_threshold = proportions_ztest(successes_adjusted, samples_adjusted, alternative='larger')\n",
    "observed_increase = test_completion_rate - control_completion_rate\n",
    "\n",
    "print(f\"Observed Increase: {observed_increase:.2%}\")\n",
    "print(f\"Z-Statistic (Threshold Test): {z_stat_threshold:.2f}, P-Value: {p_value_threshold:.4f}\")\n",
    "\n",
    "# Conclusion\n",
    "if observed_increase >= threshold and p_value_threshold < 0.05:\n",
    "    print(\"Reject the null hypothesis: The Test group meets the 5% threshold.\")\n",
    "else:\n",
    "    print(\"Fail to reject the null hypothesis: The Test group does not meet the 5% threshold.\")\n"
   ]
  },
  {
   "cell_type": "code",
   "execution_count": null,
   "id": "6b3df78e-911c-4d30-b2df-2ed2ecda2e48",
   "metadata": {},
   "outputs": [],
   "source": [
    "# Data for visualization\n",
    "groups = ['Test Group', 'Control Group']\n",
    "completion_rates = [test_completion_rate * 100, control_completion_rate * 100]  # Convert to percentage\n",
    "colors = ['skyblue', 'lightcoral']\n",
    "\n",
    "# Fun visualization: Completion rate as donuts\n",
    "fig, ax = plt.subplots(figsize=(8, 8), subplot_kw=dict(aspect=\"equal\"))\n",
    "\n",
    "# Define the labels with percentages\n",
    "labels = [f\"{group}\\n{rate:.2f}%\" for group, rate in zip(groups, completion_rates)]\n",
    "\n",
    "# Create a pie chart\n",
    "wedges, texts = ax.pie(completion_rates, colors=colors, startangle=140, wedgeprops=dict(width=0.3, edgecolor='w'))\n",
    "\n",
    "# Add annotations to the wedges\n",
    "bbox_props = dict(boxstyle=\"square,pad=0.3\", fc=\"white\", ec=\"black\", lw=0.72)\n",
    "kw = dict(arrowprops=dict(arrowstyle=\"-\"),\n",
    "          bbox=bbox_props, zorder=0, va=\"center\")\n",
    "\n",
    "for i, p in enumerate(wedges):\n",
    "    ang = (p.theta2 - p.theta1) / 2. + p.theta1\n",
    "    y = np.sin(np.deg2rad(ang))\n",
    "    x = np.cos(np.deg2rad(ang))\n",
    "    horizontalalignment = {-1: \"right\", 1: \"left\"}[int(np.sign(x))]\n",
    "    connectionstyle = \"angle,angleA=0,angleB={}\".format(ang)\n",
    "    kw[\"arrowprops\"].update({\"connectionstyle\": connectionstyle})\n",
    "    ax.annotate(labels[i], xy=(x, y), xytext=(1.5 * np.sign(x), 1.5 * y),\n",
    "                horizontalalignment=horizontalalignment, **kw)\n",
    "\n",
    "# Add title\n",
    "plt.title(\"Completion Rates: Test vs Control\", fontsize=16)\n",
    "\n",
    "# Save and display the fun visualization\n",
    "#plt.savefig('fun_completion_rate_donut.png', format='png', dpi=300)\n",
    "plt.show()\n",
    "\n",
    "\n"
   ]
  },
  {
   "cell_type": "code",
   "execution_count": 28,
   "id": "346d4e2d",
   "metadata": {},
   "outputs": [],
   "source": [
    "# Check if necessary columns are present\n",
    "if 'clnt_age' in data.columns and 'clnt_tenure_yr' in data.columns and 'clnt_tenure_mnth' in data.columns:\n",
    "    # Calculate total tenure in months\n",
    "    data['total_tenure_months'] = data['clnt_tenure_yr'] * 12 + data['clnt_tenure_mnth']\n",
    "\n",
    "    # Group by age and calculate average and total tenure\n",
    "    tenure_by_age = data.groupby('clnt_age')['total_tenure_months'].agg(\n",
    "        average_tenure='mean',\n",
    "        total_tenure='sum'\n",
    "    ).reset_index()\n",
    "\n",
    "    # Calculate overall total tenure\n",
    "    total_tenure = data['total_tenure_months'].sum()\n",
    "\n",
    "    # Display results\n",
    "    tenure_by_age, total_tenure\n",
    "else:\n",
    "    \"The required columns ('clnt_age', 'clnt_tenure_yr', 'clnt_tenure_mnth') are not present in the dataset.\"\n"
   ]
  },
  {
   "cell_type": "code",
   "execution_count": 38,
   "id": "e38e988c",
   "metadata": {},
   "outputs": [
    {
     "name": "stdout",
     "output_type": "stream",
     "text": [
      "File saved as 'unique_clients_with_gender_and_balance.csv'\n"
     ]
    }
   ],
   "source": [
    "# Load data\n",
    "data = pd.read_csv(\"../data/clean/clean_data_v1.csv\", dtype={'Variation': 'str'}, low_memory=False)\n",
    "\n",
    "# Ensure necessary columns are present\n",
    "if {'client_id', 'gendr', 'bal'}.issubset(data.columns):\n",
    "    # Get unique clients\n",
    "    unique_clients = data.drop_duplicates(subset='client_id')\n",
    "\n",
    "    # Select only relevant columns\n",
    "    unique_client_data = unique_clients[['client_id', 'gendr', 'bal']]\n",
    "\n",
    "    # Save the data locally\n",
    "    unique_client_data.to_csv('unique_clients_with_gender_and_balance.csv', index=False)\n",
    "    print(\"File saved as 'unique_clients_with_gender_and_balance.csv'\")\n",
    "else:\n",
    "    print(\"The required columns ('client_id', 'gendr', 'balance') are not present in the dataset.\")\n"
   ]
  },
  {
   "cell_type": "code",
   "execution_count": 52,
   "id": "fe34da33",
   "metadata": {},
   "outputs": [
    {
     "name": "stdout",
     "output_type": "stream",
     "text": [
      "Error Rates by Age Bracket and Variation Group:\n",
      "   age_bracket Variation  total_steps  backward_steps  error_rate\n",
      "0          <18   Control          190               4    0.021053\n",
      "1          <18      Test          240               6    0.025000\n",
      "2        18-24   Control         8539             365    0.042745\n",
      "3        18-24      Test        10688             219    0.020490\n",
      "4        25-34   Control        27346             818    0.029913\n",
      "5        25-34      Test        33076             565    0.017082\n",
      "6        35-44   Control        22308             644    0.028869\n",
      "7        35-44      Test        27148             556    0.020480\n",
      "8        45-54   Control        27456             863    0.031432\n",
      "9        45-54      Test        34733            1017    0.029281\n",
      "10       55-64   Control        32244            1107    0.034332\n",
      "11       55-64      Test        41421            1748    0.042201\n",
      "12         65+   Control        22399             811    0.036207\n",
      "13         65+      Test        29335            1589    0.054167\n"
     ]
    },
    {
     "name": "stderr",
     "output_type": "stream",
     "text": [
      "C:\\Users\\fabia\\AppData\\Local\\Temp\\ipykernel_16968\\3182870779.py:21: FutureWarning: The default of observed=False is deprecated and will be changed to True in a future version of pandas. Pass observed=False to retain current behavior or observed=True to adopt the future default and silence this warning.\n",
      "  error_rate_by_age = data.groupby(['age_bracket', 'Variation']).agg(\n"
     ]
    }
   ],
   "source": [
    "# Check if necessary columns are present\n",
    "if {'client_id', 'clnt_age', 'process_step', 'Variation'}.issubset(data.columns):\n",
    "    # Map process_step to numerical values (assuming sequential step names like \"Step 1\")\n",
    "    data['step_number'] = data['process_step'].str.extract(r'(\\d+)').astype(float)\n",
    "\n",
    "    # Sort by client_id and time to ensure proper sequence\n",
    "    data = data.sort_values(by=['client_id', 'date_time'])\n",
    "\n",
    "    # Calculate step differences\n",
    "    data['step_diff'] = data.groupby('client_id')['step_number'].diff()\n",
    "\n",
    "    # Identify backward steps\n",
    "    data['is_backward'] = data['step_diff'] < 0\n",
    "\n",
    "    # Define age brackets\n",
    "    bins = [0, 18, 25, 35, 45, 55, 65, 100]\n",
    "    labels = ['<18', '18-24', '25-34', '35-44', '45-54', '55-64', '65+']\n",
    "    data['age_bracket'] = pd.cut(data['clnt_age'], bins=bins, labels=labels, right=False)\n",
    "\n",
    "    # Calculate error rates for each age bracket and group by Variation\n",
    "    error_rate_by_age = data.groupby(['age_bracket', 'Variation']).agg(\n",
    "        total_steps=('client_id', 'count'),\n",
    "        backward_steps=('is_backward', 'sum')\n",
    "    ).reset_index()\n",
    "    error_rate_by_age['error_rate'] = error_rate_by_age['backward_steps'] / error_rate_by_age['total_steps']\n",
    "\n",
    "    # Print the results\n",
    "    print(\"Error Rates by Age Bracket and Variation Group:\")\n",
    "    print(error_rate_by_age)\n",
    "\n",
    "else:\n",
    "    print(\"The required columns ('client_id', 'clnt_age', 'process_step', 'Variation') are not present in the dataset.\")\n"
   ]
  }
 ],
 "metadata": {
  "kernelspec": {
   "display_name": "clean_env",
   "language": "python",
   "name": "python3"
  },
  "language_info": {
   "codemirror_mode": {
    "name": "ipython",
    "version": 3
   },
   "file_extension": ".py",
   "mimetype": "text/x-python",
   "name": "python",
   "nbconvert_exporter": "python",
   "pygments_lexer": "ipython3",
   "version": "3.9.20"
  }
 },
 "nbformat": 4,
 "nbformat_minor": 5
}
